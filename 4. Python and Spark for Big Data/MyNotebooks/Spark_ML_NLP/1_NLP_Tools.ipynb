{
 "cells": [
  {
   "cell_type": "code",
   "execution_count": 1,
   "id": "cleared-economy",
   "metadata": {},
   "outputs": [],
   "source": [
    "from pyspark.sql import SparkSession\n",
    "spark = SparkSession.builder.appName('nlp').getOrCreate()"
   ]
  },
  {
   "cell_type": "code",
   "execution_count": 2,
   "id": "forward-identity",
   "metadata": {},
   "outputs": [],
   "source": [
    "# A standard way of converting a body of text into\n",
    "# something an ML model can understand is the TF-IDF methods\n",
    "# Term Frequency - Inverse Document Frequency"
   ]
  },
  {
   "cell_type": "code",
   "execution_count": 3,
   "id": "welcome-attraction",
   "metadata": {},
   "outputs": [],
   "source": [
    "from pyspark.ml.feature import Tokenizer, RegexTokenizer"
   ]
  },
  {
   "cell_type": "code",
   "execution_count": 4,
   "id": "willing-monitor",
   "metadata": {},
   "outputs": [],
   "source": [
    "from pyspark.sql.functions import col,udf\n",
    "from pyspark.sql.types import IntegerType"
   ]
  },
  {
   "cell_type": "code",
   "execution_count": 5,
   "id": "informational-wyoming",
   "metadata": {},
   "outputs": [],
   "source": [
    "sentences_df = spark.createDataFrame([(0,'Hi I heard about Spark'),\n",
    "    (1,'I wish Java could use case classes'),\n",
    "    (2,'Logistic,regression,models,are,neat')\n",
    "],['id','sentence'])"
   ]
  },
  {
   "cell_type": "code",
   "execution_count": 6,
   "id": "dental-category",
   "metadata": {},
   "outputs": [
    {
     "name": "stdout",
     "output_type": "stream",
     "text": [
      "+---+--------------------+\n",
      "| id|            sentence|\n",
      "+---+--------------------+\n",
      "|  0|Hi I heard about ...|\n",
      "|  1|I wish Java could...|\n",
      "|  2|Logistic,regressi...|\n",
      "+---+--------------------+\n",
      "\n"
     ]
    }
   ],
   "source": [
    "# If this generates some error, do the following:\n",
    "\n",
    "# 1. In a cmd, run nano ~/.bashrc\n",
    "# 2. Add at the end of the file the 3 lines below:\n",
    "# export PYSPARK_PYTHON=/usr/bin/python3\n",
    "# export PYSPARK_DRIVER_PYTHON=python3\n",
    "# export PYSPARK_DRIVER_PYTHON_OPTS=\"notebook\"\n",
    "# 3. Restart the Jupyter Notebook\n",
    "sentences_df.show()"
   ]
  },
  {
   "cell_type": "code",
   "execution_count": 7,
   "id": "tamil-thesaurus",
   "metadata": {},
   "outputs": [],
   "source": [
    "# Create the tokenizer feature (detects spacing)\n",
    "tokenizer = Tokenizer(inputCol='sentence',outputCol='words')"
   ]
  },
  {
   "cell_type": "code",
   "execution_count": 9,
   "id": "ordered-raising",
   "metadata": {},
   "outputs": [],
   "source": [
    "# Create the regex tokenizer feature\n",
    "# (detects special characters to split on)\n",
    "regexTokenizer = RegexTokenizer(inputCol='sentence',\n",
    "                                outputCol='words',\n",
    "                                pattern='\\\\W')"
   ]
  },
  {
   "cell_type": "code",
   "execution_count": 10,
   "id": "compliant-error",
   "metadata": {},
   "outputs": [],
   "source": [
    "# User-Defined Function to count tokens\n",
    "count_tokens = udf(lambda words:len(words),IntegerType())"
   ]
  },
  {
   "cell_type": "code",
   "execution_count": 11,
   "id": "tired-herald",
   "metadata": {},
   "outputs": [],
   "source": [
    "tokenized = tokenizer.transform(sentences_df)"
   ]
  },
  {
   "cell_type": "code",
   "execution_count": 12,
   "id": "variable-japanese",
   "metadata": {},
   "outputs": [
    {
     "name": "stdout",
     "output_type": "stream",
     "text": [
      "+---+--------------------+--------------------+\n",
      "| id|            sentence|               words|\n",
      "+---+--------------------+--------------------+\n",
      "|  0|Hi I heard about ...|[hi, i, heard, ab...|\n",
      "|  1|I wish Java could...|[i, wish, java, c...|\n",
      "|  2|Logistic,regressi...|[logistic,regress...|\n",
      "+---+--------------------+--------------------+\n",
      "\n"
     ]
    }
   ],
   "source": [
    "tokenized.show()\n",
    "# Notice you do not know if the 3rd sentence is one full word\n",
    "# (due to commas) or if it did count them correctly"
   ]
  },
  {
   "cell_type": "code",
   "execution_count": 13,
   "id": "specific-mountain",
   "metadata": {},
   "outputs": [
    {
     "name": "stdout",
     "output_type": "stream",
     "text": [
      "+---+--------------------+--------------------+------+\n",
      "| id|            sentence|               words|tokens|\n",
      "+---+--------------------+--------------------+------+\n",
      "|  0|Hi I heard about ...|[hi, i, heard, ab...|     5|\n",
      "|  1|I wish Java could...|[i, wish, java, c...|     7|\n",
      "|  2|Logistic,regressi...|[logistic,regress...|     1|\n",
      "+---+--------------------+--------------------+------+\n",
      "\n"
     ]
    }
   ],
   "source": [
    "# That will be made clear with our UDF\n",
    "tokenized.withColumn('tokens',count_tokens(col('words'))).show()"
   ]
  },
  {
   "cell_type": "code",
   "execution_count": 16,
   "id": "disturbed-framework",
   "metadata": {},
   "outputs": [],
   "source": [
    "# Now, with the better function\n",
    "# Split on commas and spaces\n",
    "rg_tokenized = regexTokenizer.transform(sentences_df)"
   ]
  },
  {
   "cell_type": "code",
   "execution_count": 17,
   "id": "expressed-plumbing",
   "metadata": {},
   "outputs": [
    {
     "name": "stdout",
     "output_type": "stream",
     "text": [
      "+---+--------------------+--------------------+------+\n",
      "| id|            sentence|               words|tokens|\n",
      "+---+--------------------+--------------------+------+\n",
      "|  0|Hi I heard about ...|[hi, i, heard, ab...|     5|\n",
      "|  1|I wish Java could...|[i, wish, java, c...|     7|\n",
      "|  2|Logistic,regressi...|[logistic, regres...|     5|\n",
      "+---+--------------------+--------------------+------+\n",
      "\n"
     ]
    }
   ],
   "source": [
    "rg_tokenized.withColumn('tokens',count_tokens(col('words'))).show()"
   ]
  },
  {
   "cell_type": "code",
   "execution_count": 18,
   "id": "premium-chemical",
   "metadata": {},
   "outputs": [],
   "source": [
    "# Identify common words ('a', 'the', ...) and remove them\n",
    "from pyspark.ml.feature import StopWordsRemover"
   ]
  },
  {
   "cell_type": "code",
   "execution_count": 19,
   "id": "distant-growing",
   "metadata": {},
   "outputs": [],
   "source": [
    "sentenceDataFrame = spark.createDataFrame([(0,['I','saw','the','green','horse']),\n",
    "                                           (1,['Mary','had','a','little','lamb'])],\n",
    "                                         ['id','tokens'])"
   ]
  },
  {
   "cell_type": "code",
   "execution_count": 20,
   "id": "canadian-medicaid",
   "metadata": {},
   "outputs": [
    {
     "name": "stdout",
     "output_type": "stream",
     "text": [
      "+---+--------------------+\n",
      "| id|              tokens|\n",
      "+---+--------------------+\n",
      "|  0|[I, saw, the, gre...|\n",
      "|  1|[Mary, had, a, li...|\n",
      "+---+--------------------+\n",
      "\n"
     ]
    }
   ],
   "source": [
    "sentenceDataFrame.show()"
   ]
  },
  {
   "cell_type": "code",
   "execution_count": 21,
   "id": "laughing-chaos",
   "metadata": {},
   "outputs": [],
   "source": [
    "remover = StopWordsRemover(inputCol='tokens',\n",
    "                           outputCol='filtered')"
   ]
  },
  {
   "cell_type": "code",
   "execution_count": 22,
   "id": "divine-temperature",
   "metadata": {},
   "outputs": [
    {
     "name": "stdout",
     "output_type": "stream",
     "text": [
      "+---+--------------------+--------------------+\n",
      "| id|              tokens|            filtered|\n",
      "+---+--------------------+--------------------+\n",
      "|  0|[I, saw, the, gre...| [saw, green, horse]|\n",
      "|  1|[Mary, had, a, li...|[Mary, little, lamb]|\n",
      "+---+--------------------+--------------------+\n",
      "\n"
     ]
    }
   ],
   "source": [
    "remover.transform(sentenceDataFrame).show()"
   ]
  },
  {
   "cell_type": "code",
   "execution_count": 23,
   "id": "turkish-defense",
   "metadata": {},
   "outputs": [],
   "source": [
    "# n-gram takes input of tokens\n",
    "# and creates strings of consecutive words\n",
    "from pyspark.ml.feature import NGram"
   ]
  },
  {
   "cell_type": "code",
   "execution_count": 26,
   "id": "blind-schema",
   "metadata": {},
   "outputs": [],
   "source": [
    "wordDataFrame = spark.createDataFrame([(0,['Hi','I','heard','about','Spark']),\n",
    "                                       (1,['I','wish','Java','could','use','case','classes']),\n",
    "                                       (2,['Logistic','regression','models','are','neat'])],\n",
    "                                     ['id','words'])"
   ]
  },
  {
   "cell_type": "code",
   "execution_count": 27,
   "id": "unlikely-integral",
   "metadata": {},
   "outputs": [
    {
     "name": "stdout",
     "output_type": "stream",
     "text": [
      "+---+--------------------+\n",
      "| id|               words|\n",
      "+---+--------------------+\n",
      "|  0|[Hi, I, heard, ab...|\n",
      "|  1|[I, wish, Java, c...|\n",
      "|  2|[Logistic, regres...|\n",
      "+---+--------------------+\n",
      "\n"
     ]
    }
   ],
   "source": [
    "wordDataFrame.show()"
   ]
  },
  {
   "cell_type": "code",
   "execution_count": 28,
   "id": "terminal-milan",
   "metadata": {},
   "outputs": [],
   "source": [
    "ngram = NGram(n=2,inputCol='words',outputCol='grams')"
   ]
  },
  {
   "cell_type": "code",
   "execution_count": 30,
   "id": "printable-parking",
   "metadata": {},
   "outputs": [
    {
     "name": "stdout",
     "output_type": "stream",
     "text": [
      "+------------------------------------------------------------------+\n",
      "|grams                                                             |\n",
      "+------------------------------------------------------------------+\n",
      "|[Hi I, I heard, heard about, about Spark]                         |\n",
      "|[I wish, wish Java, Java could, could use, use case, case classes]|\n",
      "|[Logistic regression, regression models, models are, are neat]    |\n",
      "+------------------------------------------------------------------+\n",
      "\n"
     ]
    }
   ],
   "source": [
    "#ngram.transform(wordDataFrame).show()\n",
    "(ngram.transform(wordDataFrame)\n",
    " .select('grams')\n",
    " .show(truncate=False))"
   ]
  },
  {
   "cell_type": "code",
   "execution_count": 31,
   "id": "spectacular-jerusalem",
   "metadata": {},
   "outputs": [],
   "source": [
    "# Now let's check for term frequency\n",
    "from pyspark.ml.feature import HashingTF, IDF"
   ]
  },
  {
   "cell_type": "code",
   "execution_count": 36,
   "id": "hybrid-reality",
   "metadata": {},
   "outputs": [],
   "source": [
    "sentenceData = spark.createDataFrame([(0.0,'Hi I heard about Spark'),\n",
    "    (0.0,'I wish Java could use case classes'),\n",
    "    (1.0,'Logistic regression models are neat')\n",
    "],['label','sentence'])"
   ]
  },
  {
   "cell_type": "code",
   "execution_count": 37,
   "id": "controlled-celtic",
   "metadata": {},
   "outputs": [
    {
     "name": "stdout",
     "output_type": "stream",
     "text": [
      "+-----+--------------------+\n",
      "|label|            sentence|\n",
      "+-----+--------------------+\n",
      "|  0.0|Hi I heard about ...|\n",
      "|  0.0|I wish Java could...|\n",
      "|  1.0|Logistic regressi...|\n",
      "+-----+--------------------+\n",
      "\n"
     ]
    }
   ],
   "source": [
    "sentenceData.show()"
   ]
  },
  {
   "cell_type": "code",
   "execution_count": 38,
   "id": "electrical-chaos",
   "metadata": {},
   "outputs": [],
   "source": [
    "#tokenizer = Tokenizer(inputCol='sentence',outputCol='words')\n",
    "words_data = tokenizer.transform(sentenceData)"
   ]
  },
  {
   "cell_type": "code",
   "execution_count": 39,
   "id": "medieval-asthma",
   "metadata": {},
   "outputs": [
    {
     "name": "stdout",
     "output_type": "stream",
     "text": [
      "+-----+--------------------+--------------------+\n",
      "|label|            sentence|               words|\n",
      "+-----+--------------------+--------------------+\n",
      "|  0.0|Hi I heard about ...|[hi, i, heard, ab...|\n",
      "|  0.0|I wish Java could...|[i, wish, java, c...|\n",
      "|  1.0|Logistic regressi...|[logistic, regres...|\n",
      "+-----+--------------------+--------------------+\n",
      "\n"
     ]
    }
   ],
   "source": [
    "words_data.show()"
   ]
  },
  {
   "cell_type": "code",
   "execution_count": 40,
   "id": "peaceful-equality",
   "metadata": {},
   "outputs": [],
   "source": [
    "# To grab the term frequency...\n",
    "hashing_tf = HashingTF(inputCol='words',\n",
    "                       outputCol='rawFeatures')"
   ]
  },
  {
   "cell_type": "code",
   "execution_count": 41,
   "id": "interested-knitting",
   "metadata": {},
   "outputs": [],
   "source": [
    "featurizedData = hashing_tf.transform(words_data)"
   ]
  },
  {
   "cell_type": "code",
   "execution_count": 42,
   "id": "noble-joining",
   "metadata": {},
   "outputs": [],
   "source": [
    "idf = IDF(inputCol='rawFeatures', outputCol='features')"
   ]
  },
  {
   "cell_type": "code",
   "execution_count": 43,
   "id": "amazing-forge",
   "metadata": {},
   "outputs": [],
   "source": [
    "idfModel = idf.fit(featurizedData)"
   ]
  },
  {
   "cell_type": "code",
   "execution_count": 44,
   "id": "front-charter",
   "metadata": {},
   "outputs": [],
   "source": [
    "rescaledData = idfModel.transform(featurizedData)"
   ]
  },
  {
   "cell_type": "code",
   "execution_count": 46,
   "id": "eligible-malaysia",
   "metadata": {},
   "outputs": [
    {
     "name": "stdout",
     "output_type": "stream",
     "text": [
      "+-----+--------------------+\n",
      "|label|            features|\n",
      "+-----+--------------------+\n",
      "|  0.0|(262144,[18700,19...|\n",
      "|  0.0|(262144,[19036,20...|\n",
      "|  1.0|(262144,[46243,58...|\n",
      "+-----+--------------------+\n",
      "\n"
     ]
    }
   ],
   "source": [
    "# NOW THE DATA IS READY FOR ANY ML SUPERVISED ALGORITHM!\n",
    "rescaledData.select('label','features').show()"
   ]
  },
  {
   "cell_type": "code",
   "execution_count": 47,
   "id": "medical-delay",
   "metadata": {},
   "outputs": [],
   "source": [
    "# Identify terms across bodies of text\n",
    "# i.e., convert a collection of text documents \n",
    "# into vectors of word counts\n",
    "from pyspark.ml.feature import CountVectorizer"
   ]
  },
  {
   "cell_type": "code",
   "execution_count": 48,
   "id": "impaired-engagement",
   "metadata": {},
   "outputs": [],
   "source": [
    "df = spark.createDataFrame([(0,\"a b c\".split(\" \")),\n",
    "                            (1,\"a b b c a\".split(\" \"))],\n",
    "                          [\"id\",\"words\"])"
   ]
  },
  {
   "cell_type": "code",
   "execution_count": 49,
   "id": "lesser-baker",
   "metadata": {},
   "outputs": [
    {
     "name": "stdout",
     "output_type": "stream",
     "text": [
      "+---+---------------+\n",
      "| id|          words|\n",
      "+---+---------------+\n",
      "|  0|      [a, b, c]|\n",
      "|  1|[a, b, b, c, a]|\n",
      "+---+---------------+\n",
      "\n"
     ]
    }
   ],
   "source": [
    "df.show()"
   ]
  },
  {
   "cell_type": "code",
   "execution_count": 50,
   "id": "signed-party",
   "metadata": {},
   "outputs": [],
   "source": [
    "# Input words, output features, with a max.\n",
    "# vocab. of 3 words and minimum number of documents\n",
    "# a term must appear in to be considered a term is 2 documents\n",
    "cv = CountVectorizer(inputCol='words',outputCol='features',\n",
    "                     vocabSize=3, minDF=2.0)"
   ]
  },
  {
   "cell_type": "code",
   "execution_count": 51,
   "id": "liberal-category",
   "metadata": {},
   "outputs": [],
   "source": [
    "model = cv.fit(df)"
   ]
  },
  {
   "cell_type": "code",
   "execution_count": 52,
   "id": "continent-liechtenstein",
   "metadata": {},
   "outputs": [],
   "source": [
    "result = model.transform(df)"
   ]
  },
  {
   "cell_type": "code",
   "execution_count": 53,
   "id": "legal-insight",
   "metadata": {},
   "outputs": [
    {
     "name": "stdout",
     "output_type": "stream",
     "text": [
      "+---+---------------+-------------------------+\n",
      "|id |words          |features                 |\n",
      "+---+---------------+-------------------------+\n",
      "|0  |[a, b, c]      |(3,[0,1,2],[1.0,1.0,1.0])|\n",
      "|1  |[a, b, b, c, a]|(3,[0,1,2],[2.0,2.0,1.0])|\n",
      "+---+---------------+-------------------------+\n",
      "\n"
     ]
    }
   ],
   "source": [
    "result.show(truncate=False)"
   ]
  },
  {
   "cell_type": "code",
   "execution_count": null,
   "id": "spanish-seattle",
   "metadata": {},
   "outputs": [],
   "source": []
  }
 ],
 "metadata": {
  "kernelspec": {
   "display_name": "Python 3",
   "language": "python",
   "name": "python3"
  },
  "language_info": {
   "codemirror_mode": {
    "name": "ipython",
    "version": 3
   },
   "file_extension": ".py",
   "mimetype": "text/x-python",
   "name": "python",
   "nbconvert_exporter": "python",
   "pygments_lexer": "ipython3",
   "version": "3.8.5"
  }
 },
 "nbformat": 4,
 "nbformat_minor": 5
}
