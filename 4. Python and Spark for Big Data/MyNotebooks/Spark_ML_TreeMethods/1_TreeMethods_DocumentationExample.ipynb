{
 "cells": [
  {
   "cell_type": "code",
   "execution_count": 2,
   "id": "aboriginal-outdoors",
   "metadata": {},
   "outputs": [],
   "source": [
    "from pyspark.sql import SparkSession\n",
    "spark = SparkSession.builder.appName('tree').getOrCreate()"
   ]
  },
  {
   "cell_type": "code",
   "execution_count": 3,
   "id": "designed-poison",
   "metadata": {},
   "outputs": [],
   "source": [
    "from pyspark.ml import Pipeline"
   ]
  },
  {
   "cell_type": "code",
   "execution_count": 4,
   "id": "expressed-liberia",
   "metadata": {},
   "outputs": [],
   "source": [
    "from pyspark.ml.classification import (RandomForestClassifier,\n",
    "                                       GBTClassifier,\n",
    "                                       DecisionTreeClassifier)"
   ]
  },
  {
   "cell_type": "code",
   "execution_count": 7,
   "id": "challenging-edmonton",
   "metadata": {},
   "outputs": [],
   "source": [
    "# Get Data\n",
    "data = spark.read.format('libsvm').load('sample_libsvm_data.txt')"
   ]
  },
  {
   "cell_type": "code",
   "execution_count": 8,
   "id": "owned-picture",
   "metadata": {},
   "outputs": [
    {
     "name": "stdout",
     "output_type": "stream",
     "text": [
      "+-----+--------------------+\n",
      "|label|            features|\n",
      "+-----+--------------------+\n",
      "|  0.0|(692,[127,128,129...|\n",
      "|  1.0|(692,[158,159,160...|\n",
      "|  1.0|(692,[124,125,126...|\n",
      "|  1.0|(692,[152,153,154...|\n",
      "|  1.0|(692,[151,152,153...|\n",
      "|  0.0|(692,[129,130,131...|\n",
      "|  1.0|(692,[158,159,160...|\n",
      "|  1.0|(692,[99,100,101,...|\n",
      "|  0.0|(692,[154,155,156...|\n",
      "|  0.0|(692,[127,128,129...|\n",
      "|  1.0|(692,[154,155,156...|\n",
      "|  0.0|(692,[153,154,155...|\n",
      "|  0.0|(692,[151,152,153...|\n",
      "|  1.0|(692,[129,130,131...|\n",
      "|  0.0|(692,[154,155,156...|\n",
      "|  1.0|(692,[150,151,152...|\n",
      "|  0.0|(692,[124,125,126...|\n",
      "|  0.0|(692,[152,153,154...|\n",
      "|  1.0|(692,[97,98,99,12...|\n",
      "|  1.0|(692,[124,125,126...|\n",
      "+-----+--------------------+\n",
      "only showing top 20 rows\n",
      "\n"
     ]
    }
   ],
   "source": [
    "data.show()"
   ]
  },
  {
   "cell_type": "code",
   "execution_count": 9,
   "id": "suburban-investment",
   "metadata": {},
   "outputs": [],
   "source": [
    "train_data,test_data = data.randomSplit([0.7,0.3])"
   ]
  },
  {
   "cell_type": "code",
   "execution_count": 11,
   "id": "fitted-glance",
   "metadata": {},
   "outputs": [],
   "source": [
    "# Initiate models\n",
    "# All default columns: 'features' and 'label'\n",
    "dtc = DecisionTreeClassifier()\n",
    "rfc = RandomForestClassifier(numTrees=100)\n",
    "gbt = GBTClassifier()"
   ]
  },
  {
   "cell_type": "code",
   "execution_count": 12,
   "id": "addressed-faith",
   "metadata": {},
   "outputs": [],
   "source": [
    "# Fit the models\n",
    "dtcModel = dtc.fit(train_data)\n",
    "rfcModel = rfc.fit(train_data)\n",
    "gbtModel = gbt.fit(train_data)"
   ]
  },
  {
   "cell_type": "code",
   "execution_count": 14,
   "id": "listed-greeting",
   "metadata": {},
   "outputs": [],
   "source": [
    "# Obtain predictions on test data\n",
    "dtc_preds = dtcModel.transform(test_data)\n",
    "rfc_preds = rfcModel.transform(test_data)\n",
    "gbt_preds = gbtModel.transform(test_data)"
   ]
  },
  {
   "cell_type": "code",
   "execution_count": 20,
   "id": "prescribed-turning",
   "metadata": {},
   "outputs": [],
   "source": [
    "#dtc_preds.show()\n",
    "#rfc_preds.show()\n",
    "#gbt_preds.show()"
   ]
  },
  {
   "cell_type": "code",
   "execution_count": 21,
   "id": "psychological-parker",
   "metadata": {},
   "outputs": [],
   "source": [
    "# EVALUATE YOUR MODELS\n",
    "from pyspark.ml.evaluation import MulticlassClassificationEvaluator"
   ]
  },
  {
   "cell_type": "code",
   "execution_count": 22,
   "id": "civilian-oriental",
   "metadata": {},
   "outputs": [],
   "source": [
    "# Initiate evaluator\n",
    "acc_eval = MulticlassClassificationEvaluator(metricName='accuracy')"
   ]
  },
  {
   "cell_type": "code",
   "execution_count": 25,
   "id": "spanish-fluid",
   "metadata": {},
   "outputs": [
    {
     "name": "stdout",
     "output_type": "stream",
     "text": [
      "DTC ACCURACY\n"
     ]
    },
    {
     "data": {
      "text/plain": [
       "0.9655172413793104"
      ]
     },
     "execution_count": 25,
     "metadata": {},
     "output_type": "execute_result"
    }
   ],
   "source": [
    "print('DTC ACCURACY')\n",
    "acc_eval.evaluate(dtc_preds)"
   ]
  },
  {
   "cell_type": "code",
   "execution_count": 26,
   "id": "juvenile-armstrong",
   "metadata": {},
   "outputs": [
    {
     "name": "stdout",
     "output_type": "stream",
     "text": [
      "RFC ACCURACY\n"
     ]
    },
    {
     "data": {
      "text/plain": [
       "1.0"
      ]
     },
     "execution_count": 26,
     "metadata": {},
     "output_type": "execute_result"
    }
   ],
   "source": [
    "print('RFC ACCURACY')\n",
    "acc_eval.evaluate(rfc_preds)"
   ]
  },
  {
   "cell_type": "code",
   "execution_count": 27,
   "id": "computational-husband",
   "metadata": {},
   "outputs": [
    {
     "name": "stdout",
     "output_type": "stream",
     "text": [
      "GBT ACCURACY\n"
     ]
    },
    {
     "data": {
      "text/plain": [
       "0.9655172413793104"
      ]
     },
     "execution_count": 27,
     "metadata": {},
     "output_type": "execute_result"
    }
   ],
   "source": [
    "print('GBT ACCURACY')\n",
    "acc_eval.evaluate(gbt_preds)"
   ]
  },
  {
   "cell_type": "code",
   "execution_count": 28,
   "id": "similar-oakland",
   "metadata": {},
   "outputs": [
    {
     "data": {
      "text/plain": [
       "SparseVector(692, {100: 0.0017, 121: 0.001, 154: 0.0013, 156: 0.0006, 157: 0.0005, 158: 0.0003, 180: 0.0006, 184: 0.0002, 185: 0.0006, 209: 0.0015, 212: 0.0009, 214: 0.0002, 217: 0.0007, 230: 0.0005, 234: 0.0015, 236: 0.0004, 239: 0.0006, 240: 0.0008, 242: 0.0005, 243: 0.0009, 244: 0.0004, 245: 0.0064, 262: 0.016, 263: 0.0198, 271: 0.0072, 272: 0.001, 273: 0.0005, 289: 0.0065, 291: 0.0106, 292: 0.001, 295: 0.0006, 298: 0.0005, 299: 0.0028, 300: 0.0077, 301: 0.0248, 302: 0.001, 303: 0.0018, 317: 0.0141, 318: 0.0017, 322: 0.0051, 323: 0.0009, 327: 0.0021, 329: 0.01, 330: 0.0072, 331: 0.0008, 345: 0.0003, 346: 0.0006, 347: 0.0009, 350: 0.0329, 351: 0.0054, 352: 0.0006, 355: 0.0046, 356: 0.0086, 357: 0.007, 358: 0.0006, 360: 0.0006, 372: 0.0053, 373: 0.0098, 375: 0.0005, 378: 0.0268, 379: 0.0091, 383: 0.0005, 385: 0.0183, 386: 0.0028, 387: 0.0009, 405: 0.0344, 406: 0.0619, 407: 0.0007, 408: 0.0025, 409: 0.0011, 411: 0.0097, 412: 0.0069, 413: 0.0005, 424: 0.0005, 426: 0.016, 428: 0.0027, 429: 0.0019, 433: 0.0272, 434: 0.0352, 435: 0.0005, 436: 0.0009, 437: 0.0018, 438: 0.0007, 439: 0.0014, 440: 0.0246, 443: 0.0009, 454: 0.0006, 455: 0.0241, 457: 0.0034, 461: 0.036, 462: 0.0733, 464: 0.0006, 465: 0.0005, 467: 0.0024, 468: 0.0006, 469: 0.0067, 470: 0.0037, 482: 0.0113, 483: 0.0217, 484: 0.015, 485: 0.0006, 486: 0.0005, 489: 0.0181, 490: 0.0253, 491: 0.0009, 495: 0.0076, 496: 0.0079, 509: 0.0005, 511: 0.0316, 512: 0.0261, 517: 0.0569, 518: 0.0017, 521: 0.0039, 522: 0.002, 523: 0.0024, 524: 0.0005, 538: 0.0069, 539: 0.0149, 540: 0.0175, 545: 0.0147, 547: 0.001, 549: 0.0015, 550: 0.0039, 552: 0.0005, 567: 0.0017, 568: 0.0104, 571: 0.0006, 572: 0.0003, 583: 0.0006, 597: 0.0008, 601: 0.0005, 603: 0.0001, 604: 0.0002, 609: 0.0005, 610: 0.0007, 622: 0.0002, 625: 0.0003, 629: 0.0002, 632: 0.0015, 689: 0.0002})"
      ]
     },
     "execution_count": 28,
     "metadata": {},
     "output_type": "execute_result"
    }
   ],
   "source": [
    "# Grab Feature Importance on a Fitted Model\n",
    "rfcModel.featureImportances"
   ]
  },
  {
   "cell_type": "code",
   "execution_count": null,
   "id": "documented-remainder",
   "metadata": {},
   "outputs": [],
   "source": []
  }
 ],
 "metadata": {
  "kernelspec": {
   "display_name": "Python 3",
   "language": "python",
   "name": "python3"
  },
  "language_info": {
   "codemirror_mode": {
    "name": "ipython",
    "version": 3
   },
   "file_extension": ".py",
   "mimetype": "text/x-python",
   "name": "python",
   "nbconvert_exporter": "python",
   "pygments_lexer": "ipython3",
   "version": "3.8.5"
  }
 },
 "nbformat": 4,
 "nbformat_minor": 5
}
