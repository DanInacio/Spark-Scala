{
 "cells": [
  {
   "cell_type": "code",
   "execution_count": 1,
   "id": "mysterious-plumbing",
   "metadata": {},
   "outputs": [],
   "source": [
    "from pyspark.sql import SparkSession\n",
    "spark = SparkSession.builder.appName('recommender').getOrCreate()"
   ]
  },
  {
   "cell_type": "code",
   "execution_count": 2,
   "id": "expressed-opera",
   "metadata": {},
   "outputs": [],
   "source": [
    "from pyspark.ml.recommendation import ALS"
   ]
  },
  {
   "cell_type": "code",
   "execution_count": 3,
   "id": "spoken-democrat",
   "metadata": {},
   "outputs": [],
   "source": [
    "from pyspark.ml.evaluation import RegressionEvaluator"
   ]
  },
  {
   "cell_type": "code",
   "execution_count": 4,
   "id": "familiar-twenty",
   "metadata": {},
   "outputs": [],
   "source": [
    "# Get Data\n",
    "data = spark.read.csv('movielens_ratings.csv',\n",
    "                      header=True,inferSchema=True)"
   ]
  },
  {
   "cell_type": "code",
   "execution_count": 5,
   "id": "light-reunion",
   "metadata": {},
   "outputs": [
    {
     "name": "stdout",
     "output_type": "stream",
     "text": [
      "+-------+------+------+\n",
      "|movieId|rating|userId|\n",
      "+-------+------+------+\n",
      "|      2|   3.0|     0|\n",
      "|      3|   1.0|     0|\n",
      "|      5|   2.0|     0|\n",
      "|      9|   4.0|     0|\n",
      "|     11|   1.0|     0|\n",
      "|     12|   2.0|     0|\n",
      "|     15|   1.0|     0|\n",
      "|     17|   1.0|     0|\n",
      "|     19|   1.0|     0|\n",
      "|     21|   1.0|     0|\n",
      "|     23|   1.0|     0|\n",
      "|     26|   3.0|     0|\n",
      "|     27|   1.0|     0|\n",
      "|     28|   1.0|     0|\n",
      "|     29|   1.0|     0|\n",
      "|     30|   1.0|     0|\n",
      "|     31|   1.0|     0|\n",
      "|     34|   1.0|     0|\n",
      "|     37|   1.0|     0|\n",
      "|     41|   2.0|     0|\n",
      "+-------+------+------+\n",
      "only showing top 20 rows\n",
      "\n"
     ]
    }
   ],
   "source": [
    "data.show()"
   ]
  },
  {
   "cell_type": "code",
   "execution_count": 6,
   "id": "possible-bookmark",
   "metadata": {},
   "outputs": [
    {
     "name": "stdout",
     "output_type": "stream",
     "text": [
      "+-------+------------------+------------------+------------------+\n",
      "|summary|           movieId|            rating|            userId|\n",
      "+-------+------------------+------------------+------------------+\n",
      "|  count|              1501|              1501|              1501|\n",
      "|   mean| 49.40572951365756|1.7741505662891406|14.383744170552964|\n",
      "| stddev|28.937034065088994| 1.187276166124803| 8.591040424293272|\n",
      "|    min|                 0|               1.0|                 0|\n",
      "|    max|                99|               5.0|                29|\n",
      "+-------+------------------+------------------+------------------+\n",
      "\n"
     ]
    }
   ],
   "source": [
    "data.describe().show() # 1501 entries"
   ]
  },
  {
   "cell_type": "code",
   "execution_count": 8,
   "id": "rural-uncle",
   "metadata": {},
   "outputs": [],
   "source": [
    "# Split the data into training and test datasets\n",
    "train_data, test_data = data.randomSplit([0.8,0.2])"
   ]
  },
  {
   "cell_type": "code",
   "execution_count": 16,
   "id": "diverse-reliance",
   "metadata": {},
   "outputs": [],
   "source": [
    "# Initiate model (I removed negative values!)\n",
    "als = ALS(maxIter=5,regParam=0.01,nonnegative=True,\n",
    "          userCol='userId',itemCol='movieId',ratingCol='rating')"
   ]
  },
  {
   "cell_type": "code",
   "execution_count": 17,
   "id": "unknown-baking",
   "metadata": {},
   "outputs": [],
   "source": [
    "# Fit model\n",
    "alsModel = als.fit(train_data)"
   ]
  },
  {
   "cell_type": "code",
   "execution_count": 18,
   "id": "accepted-colony",
   "metadata": {},
   "outputs": [],
   "source": [
    "predictions = alsModel.transform(test_data)"
   ]
  },
  {
   "cell_type": "code",
   "execution_count": 19,
   "id": "ultimate-seattle",
   "metadata": {},
   "outputs": [
    {
     "name": "stdout",
     "output_type": "stream",
     "text": [
      "+-------+------+------+----------+\n",
      "|movieId|rating|userId|prediction|\n",
      "+-------+------+------+----------+\n",
      "|     31|   4.0|    12| 2.3634791|\n",
      "|     31|   3.0|     7| 2.4941363|\n",
      "|     85|   1.0|    13| 1.9903907|\n",
      "|     85|   3.0|     6| 2.5250635|\n",
      "|     85|   1.0|    25| 1.0253421|\n",
      "|     85|   3.0|    21|  4.008762|\n",
      "|     65|   1.0|    28|0.79266566|\n",
      "|     65|   2.0|     5| 1.7551162|\n",
      "|     53|   1.0|     9| 2.2262754|\n",
      "|     53|   5.0|    21| 3.8923013|\n",
      "|     78|   1.0|    27| 0.8550229|\n",
      "|     78|   1.0|    13|  0.714256|\n",
      "|     78|   1.0|    20| 0.8584664|\n",
      "|     78|   1.0|     8| 1.4392581|\n",
      "|     78|   1.0|     2| 0.7327111|\n",
      "|     34|   3.0|    25|0.51514035|\n",
      "|     81|   1.0|    22| 1.7688997|\n",
      "|     81|   1.0|     6| 3.2594583|\n",
      "|     81|   1.0|    16| 0.6767417|\n",
      "|     81|   2.0|     9| 3.5814738|\n",
      "+-------+------+------+----------+\n",
      "only showing top 20 rows\n",
      "\n"
     ]
    }
   ],
   "source": [
    "predictions.show()"
   ]
  },
  {
   "cell_type": "code",
   "execution_count": 20,
   "id": "committed-effort",
   "metadata": {},
   "outputs": [],
   "source": [
    "# Evaluate your model\n",
    "evaluator = RegressionEvaluator(metricName='rmse',\n",
    "                                labelCol='rating',\n",
    "                                predictionCol='prediction')"
   ]
  },
  {
   "cell_type": "code",
   "execution_count": 21,
   "id": "binding-shape",
   "metadata": {},
   "outputs": [],
   "source": [
    "rmse = evaluator.evaluate(predictions)"
   ]
  },
  {
   "cell_type": "code",
   "execution_count": 22,
   "id": "exotic-incident",
   "metadata": {},
   "outputs": [
    {
     "name": "stdout",
     "output_type": "stream",
     "text": [
      "RMSE\n",
      "1.1436973481411965\n"
     ]
    }
   ],
   "source": [
    "print('RMSE')\n",
    "print(rmse) # From 0 to 5 stars!"
   ]
  },
  {
   "cell_type": "code",
   "execution_count": 23,
   "id": "statewide-photograph",
   "metadata": {},
   "outputs": [],
   "source": [
    "# Now, let's use this on a single User"
   ]
  },
  {
   "cell_type": "code",
   "execution_count": 25,
   "id": "unnecessary-platform",
   "metadata": {},
   "outputs": [],
   "source": [
    "single_user = (test_data.filter(test_data['userId']==11).\n",
    "               select(['movieId','userId']))"
   ]
  },
  {
   "cell_type": "code",
   "execution_count": 26,
   "id": "ahead-navigator",
   "metadata": {},
   "outputs": [
    {
     "name": "stdout",
     "output_type": "stream",
     "text": [
      "+-------+------+\n",
      "|movieId|userId|\n",
      "+-------+------+\n",
      "|      9|    11|\n",
      "|     10|    11|\n",
      "|     13|    11|\n",
      "|     16|    11|\n",
      "|     27|    11|\n",
      "|     39|    11|\n",
      "|     41|    11|\n",
      "|     48|    11|\n",
      "|     59|    11|\n",
      "|     62|    11|\n",
      "|     71|    11|\n",
      "|     76|    11|\n",
      "|     79|    11|\n",
      "|     88|    11|\n",
      "|     89|    11|\n",
      "|     94|    11|\n",
      "|     97|    11|\n",
      "|     99|    11|\n",
      "+-------+------+\n",
      "\n"
     ]
    }
   ],
   "source": [
    "single_user.show()"
   ]
  },
  {
   "cell_type": "code",
   "execution_count": 27,
   "id": "grave-report",
   "metadata": {},
   "outputs": [],
   "source": [
    "recommendations = alsModel.transform(single_user)"
   ]
  },
  {
   "cell_type": "code",
   "execution_count": 28,
   "id": "black-toolbox",
   "metadata": {},
   "outputs": [
    {
     "name": "stdout",
     "output_type": "stream",
     "text": [
      "+-------+------+----------+\n",
      "|movieId|userId|prediction|\n",
      "+-------+------+----------+\n",
      "|     76|    11|  5.280543|\n",
      "|     41|    11| 3.9507601|\n",
      "|     79|    11| 3.6522458|\n",
      "|     27|    11| 3.2996938|\n",
      "|     59|    11|  3.005437|\n",
      "|     94|    11|  2.660212|\n",
      "|     88|    11| 2.6513643|\n",
      "|     39|    11| 2.3576899|\n",
      "|     48|    11| 2.2716782|\n",
      "|     10|    11| 1.8175272|\n",
      "|     89|    11| 1.7729615|\n",
      "|     13|    11| 1.7550015|\n",
      "|     62|    11| 1.4772742|\n",
      "|     99|    11| 1.4469495|\n",
      "|     97|    11| 1.1303542|\n",
      "|     71|    11| 1.0851887|\n",
      "|     16|    11| 0.7948066|\n",
      "|      9|    11|0.15445098|\n",
      "+-------+------+----------+\n",
      "\n"
     ]
    }
   ],
   "source": [
    "recommendations.orderBy('prediction',ascending=False).show()"
   ]
  },
  {
   "cell_type": "code",
   "execution_count": null,
   "id": "productive-protection",
   "metadata": {},
   "outputs": [],
   "source": []
  }
 ],
 "metadata": {
  "kernelspec": {
   "display_name": "Python 3",
   "language": "python",
   "name": "python3"
  },
  "language_info": {
   "codemirror_mode": {
    "name": "ipython",
    "version": 3
   },
   "file_extension": ".py",
   "mimetype": "text/x-python",
   "name": "python",
   "nbconvert_exporter": "python",
   "pygments_lexer": "ipython3",
   "version": "3.8.5"
  }
 },
 "nbformat": 4,
 "nbformat_minor": 5
}
