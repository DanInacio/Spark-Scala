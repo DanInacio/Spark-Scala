{
 "cells": [
  {
   "cell_type": "code",
   "execution_count": 1,
   "id": "innovative-estate",
   "metadata": {},
   "outputs": [],
   "source": [
    "from pyspark.sql import SparkSession\n",
    "from pyspark.ml.classification import LogisticRegression"
   ]
  },
  {
   "cell_type": "code",
   "execution_count": 2,
   "id": "prepared-decrease",
   "metadata": {},
   "outputs": [],
   "source": [
    "spark = SparkSession.builder.appName('logreg').getOrCreate()"
   ]
  },
  {
   "cell_type": "code",
   "execution_count": 3,
   "id": "powered-march",
   "metadata": {},
   "outputs": [],
   "source": [
    "# Get Data\n",
    "df = spark.read.format('libsvm').load('sample_libsvm_data.txt')"
   ]
  },
  {
   "cell_type": "code",
   "execution_count": 4,
   "id": "worldwide-douglas",
   "metadata": {},
   "outputs": [
    {
     "name": "stdout",
     "output_type": "stream",
     "text": [
      "+-----+--------------------+\n",
      "|label|            features|\n",
      "+-----+--------------------+\n",
      "|  0.0|(692,[127,128,129...|\n",
      "|  1.0|(692,[158,159,160...|\n",
      "|  1.0|(692,[124,125,126...|\n",
      "|  1.0|(692,[152,153,154...|\n",
      "|  1.0|(692,[151,152,153...|\n",
      "|  0.0|(692,[129,130,131...|\n",
      "|  1.0|(692,[158,159,160...|\n",
      "|  1.0|(692,[99,100,101,...|\n",
      "|  0.0|(692,[154,155,156...|\n",
      "|  0.0|(692,[127,128,129...|\n",
      "|  1.0|(692,[154,155,156...|\n",
      "|  0.0|(692,[153,154,155...|\n",
      "|  0.0|(692,[151,152,153...|\n",
      "|  1.0|(692,[129,130,131...|\n",
      "|  0.0|(692,[154,155,156...|\n",
      "|  1.0|(692,[150,151,152...|\n",
      "|  0.0|(692,[124,125,126...|\n",
      "|  0.0|(692,[152,153,154...|\n",
      "|  1.0|(692,[97,98,99,12...|\n",
      "|  1.0|(692,[124,125,126...|\n",
      "+-----+--------------------+\n",
      "only showing top 20 rows\n",
      "\n"
     ]
    }
   ],
   "source": [
    "df.show() # Label is 0 or 1 -> BINARY CLASSIFICATION"
   ]
  },
  {
   "cell_type": "code",
   "execution_count": 5,
   "id": "muslim-checkout",
   "metadata": {},
   "outputs": [],
   "source": [
    "# Initiate the Logistic Regression Model\n",
    "logReg = LogisticRegression()"
   ]
  },
  {
   "cell_type": "code",
   "execution_count": 6,
   "id": "floral-alert",
   "metadata": {},
   "outputs": [],
   "source": [
    "# Fit the model\n",
    "logRegModel = logReg.fit(df)"
   ]
  },
  {
   "cell_type": "code",
   "execution_count": 8,
   "id": "average-compatibility",
   "metadata": {},
   "outputs": [],
   "source": [
    "# View results\n",
    "results = logRegModel.summary"
   ]
  },
  {
   "cell_type": "code",
   "execution_count": 10,
   "id": "engaged-average",
   "metadata": {},
   "outputs": [
    {
     "name": "stdout",
     "output_type": "stream",
     "text": [
      "root\n",
      " |-- label: double (nullable = true)\n",
      " |-- features: vector (nullable = true)\n",
      " |-- rawPrediction: vector (nullable = true)\n",
      " |-- probability: vector (nullable = true)\n",
      " |-- prediction: double (nullable = false)\n",
      "\n"
     ]
    }
   ],
   "source": [
    "results.predictions.printSchema()\n",
    "# label         -> real value\n",
    "# features      -> features to build the model\n",
    "# rawPrediction -> prediction of model before fitting to data\n",
    "# probability   -> prob. of rawPrediction matching label\n",
    "# prediction    -> prediction of model after fitting to data"
   ]
  },
  {
   "cell_type": "code",
   "execution_count": 11,
   "id": "crucial-entrance",
   "metadata": {},
   "outputs": [
    {
     "name": "stdout",
     "output_type": "stream",
     "text": [
      "+-----+--------------------+--------------------+--------------------+----------+\n",
      "|label|            features|       rawPrediction|         probability|prediction|\n",
      "+-----+--------------------+--------------------+--------------------+----------+\n",
      "|  0.0|(692,[127,128,129...|[19.8534775947478...|[0.99999999761359...|       0.0|\n",
      "|  1.0|(692,[158,159,160...|[-20.377398194908...|[1.41321555111048...|       1.0|\n",
      "|  1.0|(692,[124,125,126...|[-27.401459284891...|[1.25804865126969...|       1.0|\n",
      "|  1.0|(692,[152,153,154...|[-18.862741612668...|[6.42710509170264...|       1.0|\n",
      "|  1.0|(692,[151,152,153...|[-20.483011833009...|[1.27157209200596...|       1.0|\n",
      "|  0.0|(692,[129,130,131...|[19.8506078990277...|[0.99999999760673...|       0.0|\n",
      "|  1.0|(692,[158,159,160...|[-20.337256674833...|[1.47109814695572...|       1.0|\n",
      "|  1.0|(692,[99,100,101,...|[-19.595579753418...|[3.08850168102604...|       1.0|\n",
      "|  0.0|(692,[154,155,156...|[19.2708803215612...|[0.99999999572670...|       0.0|\n",
      "|  0.0|(692,[127,128,129...|[23.6202328360422...|[0.99999999994480...|       0.0|\n",
      "|  1.0|(692,[154,155,156...|[-24.385235147661...|[2.56818872776492...|       1.0|\n",
      "|  0.0|(692,[153,154,155...|[26.3082522490179...|[0.99999999999624...|       0.0|\n",
      "|  0.0|(692,[151,152,153...|[25.8329060318702...|[0.99999999999396...|       0.0|\n",
      "|  1.0|(692,[129,130,131...|[-19.794609139086...|[2.53110684529565...|       1.0|\n",
      "|  0.0|(692,[154,155,156...|[21.0260440948067...|[0.99999999926123...|       0.0|\n",
      "|  1.0|(692,[150,151,152...|[-22.764979942873...|[1.29806018790933...|       1.0|\n",
      "|  0.0|(692,[124,125,126...|[21.5049307193954...|[0.99999999954235...|       0.0|\n",
      "|  0.0|(692,[152,153,154...|[31.9927184226421...|[0.99999999999998...|       0.0|\n",
      "|  1.0|(692,[97,98,99,12...|[-20.521067180414...|[1.22409115616496...|       1.0|\n",
      "|  1.0|(692,[124,125,126...|[-22.245377742755...|[2.18250475400318...|       1.0|\n",
      "+-----+--------------------+--------------------+--------------------+----------+\n",
      "only showing top 20 rows\n",
      "\n"
     ]
    }
   ],
   "source": [
    "results.predictions.show()"
   ]
  },
  {
   "cell_type": "code",
   "execution_count": 12,
   "id": "realistic-disclosure",
   "metadata": {},
   "outputs": [],
   "source": [
    "# EVALUATORS\n",
    "# Let's run an evaluator on test data"
   ]
  },
  {
   "cell_type": "code",
   "execution_count": 13,
   "id": "happy-edward",
   "metadata": {},
   "outputs": [],
   "source": [
    "train_data,test_data = df.randomSplit([0.7,0.3])"
   ]
  },
  {
   "cell_type": "code",
   "execution_count": 14,
   "id": "ignored-retreat",
   "metadata": {},
   "outputs": [],
   "source": [
    "final_model = LogisticRegression()"
   ]
  },
  {
   "cell_type": "code",
   "execution_count": 16,
   "id": "moving-sodium",
   "metadata": {},
   "outputs": [],
   "source": [
    "fit_final = final_model.fit(train_data)"
   ]
  },
  {
   "cell_type": "code",
   "execution_count": 17,
   "id": "impaired-amber",
   "metadata": {},
   "outputs": [],
   "source": [
    "prediction_and_labels = fit_final.evaluate(test_data)"
   ]
  },
  {
   "cell_type": "code",
   "execution_count": 19,
   "id": "handmade-writing",
   "metadata": {},
   "outputs": [
    {
     "name": "stdout",
     "output_type": "stream",
     "text": [
      "+-----+--------------------+--------------------+--------------------+----------+\n",
      "|label|            features|       rawPrediction|         probability|prediction|\n",
      "+-----+--------------------+--------------------+--------------------+----------+\n",
      "|  0.0|(692,[95,96,97,12...|[21.9246393887383...|[0.99999999969921...|       0.0|\n",
      "|  0.0|(692,[122,123,148...|[19.5771193359086...|[0.99999999685395...|       0.0|\n",
      "|  0.0|(692,[124,125,126...|[31.8574407548028...|[0.99999999999998...|       0.0|\n",
      "|  0.0|(692,[124,125,126...|[16.7209298007311...|[0.99999994527416...|       0.0|\n",
      "|  0.0|(692,[124,125,126...|[26.0467349849349...|[0.99999999999512...|       0.0|\n",
      "|  0.0|(692,[126,127,128...|[24.2820756719009...|[0.99999999997152...|       0.0|\n",
      "|  0.0|(692,[126,127,128...|[33.1543917507737...|[0.99999999999999...|       0.0|\n",
      "|  0.0|(692,[127,128,129...|[20.5733753223147...|[0.99999999883829...|       0.0|\n",
      "|  0.0|(692,[127,128,129...|[23.6350981635329...|[0.99999999994562...|       0.0|\n",
      "|  0.0|(692,[152,153,154...|[31.2722634829586...|[0.99999999999997...|       0.0|\n",
      "|  0.0|(692,[153,154,155...|[30.9126641996940...|[0.99999999999996...|       0.0|\n",
      "|  0.0|(692,[154,155,156...|[22.2641186965700...|[0.99999999978580...|       0.0|\n",
      "|  0.0|(692,[154,155,156...|[21.0772855500646...|[0.99999999929813...|       0.0|\n",
      "|  0.0|(692,[234,235,237...|[5.58079009603888...|[0.99624457040791...|       0.0|\n",
      "|  1.0|(692,[100,101,102...|[-1.6420588958670...|[0.16218510293489...|       1.0|\n",
      "|  1.0|(692,[123,124,125...|[-20.943608300977...|[8.02244010551392...|       1.0|\n",
      "|  1.0|(692,[124,125,126...|[-24.349392425422...|[2.66190916748694...|       1.0|\n",
      "|  1.0|(692,[124,125,126...|[-29.059823168122...|[2.39595773624175...|       1.0|\n",
      "|  1.0|(692,[125,126,127...|[-21.150861859012...|[6.52074784996706...|       1.0|\n",
      "|  1.0|(692,[126,127,128...|[-31.582081208441...|[1.92343008255517...|       1.0|\n",
      "+-----+--------------------+--------------------+--------------------+----------+\n",
      "only showing top 20 rows\n",
      "\n"
     ]
    }
   ],
   "source": [
    "prediction_and_labels.predictions.show()\n",
    "# Same but not data is split into train and test"
   ]
  },
  {
   "cell_type": "code",
   "execution_count": 20,
   "id": "recorded-christmas",
   "metadata": {},
   "outputs": [],
   "source": [
    "from pyspark.ml.evaluation import (BinaryClassificationEvaluator,\n",
    "                                   MulticlassClassificationEvaluator)"
   ]
  },
  {
   "cell_type": "code",
   "execution_count": 21,
   "id": "concerned-controversy",
   "metadata": {},
   "outputs": [],
   "source": [
    "evaluator = BinaryClassificationEvaluator(rawPredictionCol='rawPrediction')"
   ]
  },
  {
   "cell_type": "code",
   "execution_count": 22,
   "id": "afraid-billy",
   "metadata": {},
   "outputs": [],
   "source": [
    "myFinalROC = evaluator.evaluate(prediction_and_labels.predictions)"
   ]
  },
  {
   "cell_type": "code",
   "execution_count": 23,
   "id": "ongoing-jason",
   "metadata": {},
   "outputs": [
    {
     "data": {
      "text/plain": [
       "1.0"
      ]
     },
     "execution_count": 23,
     "metadata": {},
     "output_type": "execute_result"
    }
   ],
   "source": [
    "myFinalROC # Perfect Fit. Predicted everything"
   ]
  },
  {
   "cell_type": "code",
   "execution_count": null,
   "id": "experimental-sociology",
   "metadata": {},
   "outputs": [],
   "source": []
  }
 ],
 "metadata": {
  "kernelspec": {
   "display_name": "Python 3",
   "language": "python",
   "name": "python3"
  },
  "language_info": {
   "codemirror_mode": {
    "name": "ipython",
    "version": 3
   },
   "file_extension": ".py",
   "mimetype": "text/x-python",
   "name": "python",
   "nbconvert_exporter": "python",
   "pygments_lexer": "ipython3",
   "version": "3.8.5"
  }
 },
 "nbformat": 4,
 "nbformat_minor": 5
}
