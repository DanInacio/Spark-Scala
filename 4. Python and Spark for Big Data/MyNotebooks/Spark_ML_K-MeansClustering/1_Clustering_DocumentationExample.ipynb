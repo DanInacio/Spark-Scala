{
 "cells": [
  {
   "cell_type": "code",
   "execution_count": 1,
   "id": "devoted-compatibility",
   "metadata": {},
   "outputs": [],
   "source": [
    "from pyspark.sql import SparkSession\n",
    "spark = SparkSession.builder.appName('cluster').getOrCreate()"
   ]
  },
  {
   "cell_type": "code",
   "execution_count": 2,
   "id": "colored-national",
   "metadata": {},
   "outputs": [],
   "source": [
    "from pyspark.ml.clustering import KMeans"
   ]
  },
  {
   "cell_type": "code",
   "execution_count": 3,
   "id": "another-confirmation",
   "metadata": {},
   "outputs": [],
   "source": [
    "# Get data\n",
    "data = spark.read.format('libsvm').load('sample_kmeans_data.txt')"
   ]
  },
  {
   "cell_type": "code",
   "execution_count": 4,
   "id": "available-vermont",
   "metadata": {},
   "outputs": [
    {
     "name": "stdout",
     "output_type": "stream",
     "text": [
      "+-----+--------------------+\n",
      "|label|            features|\n",
      "+-----+--------------------+\n",
      "|  0.0|           (3,[],[])|\n",
      "|  1.0|(3,[0,1,2],[0.1,0...|\n",
      "|  2.0|(3,[0,1,2],[0.2,0...|\n",
      "|  3.0|(3,[0,1,2],[9.0,9...|\n",
      "|  4.0|(3,[0,1,2],[9.1,9...|\n",
      "|  5.0|(3,[0,1,2],[9.2,9...|\n",
      "+-----+--------------------+\n",
      "\n"
     ]
    }
   ],
   "source": [
    "data.show()"
   ]
  },
  {
   "cell_type": "code",
   "execution_count": 5,
   "id": "burning-nursery",
   "metadata": {},
   "outputs": [],
   "source": [
    "# Ignore the label column...\n",
    "finalData = data.select('features')"
   ]
  },
  {
   "cell_type": "code",
   "execution_count": 6,
   "id": "rolled-little",
   "metadata": {},
   "outputs": [
    {
     "name": "stdout",
     "output_type": "stream",
     "text": [
      "+--------------------+\n",
      "|            features|\n",
      "+--------------------+\n",
      "|           (3,[],[])|\n",
      "|(3,[0,1,2],[0.1,0...|\n",
      "|(3,[0,1,2],[0.2,0...|\n",
      "|(3,[0,1,2],[9.0,9...|\n",
      "|(3,[0,1,2],[9.1,9...|\n",
      "|(3,[0,1,2],[9.2,9...|\n",
      "+--------------------+\n",
      "\n"
     ]
    }
   ],
   "source": [
    "finalData.show()"
   ]
  },
  {
   "cell_type": "code",
   "execution_count": 31,
   "id": "built-independence",
   "metadata": {},
   "outputs": [],
   "source": [
    "# Initiate the model with 2,3,4 clusters\n",
    "kmeans = KMeans().setK(2).setSeed(1)"
   ]
  },
  {
   "cell_type": "code",
   "execution_count": 32,
   "id": "standard-government",
   "metadata": {},
   "outputs": [],
   "source": [
    "# Fit the model\n",
    "kModel = kmeans.fit(finalData)"
   ]
  },
  {
   "cell_type": "code",
   "execution_count": 33,
   "id": "comfortable-trout",
   "metadata": {},
   "outputs": [],
   "source": [
    "# EValuate your model -> \"Within Set Sum of Squared Errors\"\n",
    "wssse = kModel.summary.trainingCost"
   ]
  },
  {
   "cell_type": "code",
   "execution_count": 34,
   "id": "technological-directory",
   "metadata": {},
   "outputs": [
    {
     "data": {
      "text/plain": [
       "0.11999999999994547"
      ]
     },
     "execution_count": 34,
     "metadata": {},
     "output_type": "execute_result"
    }
   ],
   "source": [
    "wssse # Lowest significant drop is at 4 clusters"
   ]
  },
  {
   "cell_type": "code",
   "execution_count": 35,
   "id": "handmade-documentation",
   "metadata": {},
   "outputs": [],
   "source": [
    "# View centroid coordinates\n",
    "centers = kModel.clusterCenters()"
   ]
  },
  {
   "cell_type": "code",
   "execution_count": 36,
   "id": "competitive-conversation",
   "metadata": {},
   "outputs": [
    {
     "data": {
      "text/plain": [
       "[array([9.1, 9.1, 9.1]), array([0.1, 0.1, 0.1])]"
      ]
     },
     "execution_count": 36,
     "metadata": {},
     "output_type": "execute_result"
    }
   ],
   "source": [
    "centers\n",
    "\n",
    "# Centers with 4 clusters were like this\n",
    "#[array([9.05, 9.05, 9.05]),\n",
    "# array([0.05, 0.05, 0.05]),\n",
    "# array([0.2, 0.2, 0.2]),\n",
    "# array([9.2, 9.2, 9.2])]"
   ]
  },
  {
   "cell_type": "code",
   "execution_count": 37,
   "id": "advised-maria",
   "metadata": {},
   "outputs": [],
   "source": [
    "# At the end of the day, what we want to know is\n",
    "# Which centroid does EACH ROW belong to?"
   ]
  },
  {
   "cell_type": "code",
   "execution_count": 40,
   "id": "disabled-edinburgh",
   "metadata": {},
   "outputs": [],
   "source": [
    "results = kModel.transform(finalData)"
   ]
  },
  {
   "cell_type": "code",
   "execution_count": 41,
   "id": "bacterial-tower",
   "metadata": {},
   "outputs": [
    {
     "name": "stdout",
     "output_type": "stream",
     "text": [
      "+--------------------+----------+\n",
      "|            features|prediction|\n",
      "+--------------------+----------+\n",
      "|           (3,[],[])|         1|\n",
      "|(3,[0,1,2],[0.1,0...|         1|\n",
      "|(3,[0,1,2],[0.2,0...|         1|\n",
      "|(3,[0,1,2],[9.0,9...|         0|\n",
      "|(3,[0,1,2],[9.1,9...|         0|\n",
      "|(3,[0,1,2],[9.2,9...|         0|\n",
      "+--------------------+----------+\n",
      "\n"
     ]
    }
   ],
   "source": [
    "results.show()"
   ]
  },
  {
   "cell_type": "code",
   "execution_count": null,
   "id": "preceding-edmonton",
   "metadata": {},
   "outputs": [],
   "source": []
  }
 ],
 "metadata": {
  "kernelspec": {
   "display_name": "Python 3",
   "language": "python",
   "name": "python3"
  },
  "language_info": {
   "codemirror_mode": {
    "name": "ipython",
    "version": 3
   },
   "file_extension": ".py",
   "mimetype": "text/x-python",
   "name": "python",
   "nbconvert_exporter": "python",
   "pygments_lexer": "ipython3",
   "version": "3.8.5"
  }
 },
 "nbformat": 4,
 "nbformat_minor": 5
}
