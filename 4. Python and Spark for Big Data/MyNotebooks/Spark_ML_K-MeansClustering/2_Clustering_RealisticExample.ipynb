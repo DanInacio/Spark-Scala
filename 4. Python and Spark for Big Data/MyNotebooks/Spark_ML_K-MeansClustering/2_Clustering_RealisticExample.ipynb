{
 "cells": [
  {
   "cell_type": "code",
   "execution_count": 1,
   "id": "declared-muslim",
   "metadata": {},
   "outputs": [],
   "source": [
    "from pyspark.sql import SparkSession\n",
    "spark = SparkSession.builder.appName('cluster').getOrCreate()"
   ]
  },
  {
   "cell_type": "code",
   "execution_count": 2,
   "id": "prompt-duplicate",
   "metadata": {},
   "outputs": [],
   "source": [
    "from pyspark.ml.clustering import KMeans"
   ]
  },
  {
   "cell_type": "code",
   "execution_count": 3,
   "id": "compound-frequency",
   "metadata": {},
   "outputs": [],
   "source": [
    "# Get data\n",
    "data = spark.read.csv('seeds_dataset.csv',\n",
    "                      header=True,inferSchema=True)"
   ]
  },
  {
   "cell_type": "code",
   "execution_count": 4,
   "id": "complimentary-portugal",
   "metadata": {},
   "outputs": [
    {
     "name": "stdout",
     "output_type": "stream",
     "text": [
      "root\n",
      " |-- area: double (nullable = true)\n",
      " |-- perimeter: double (nullable = true)\n",
      " |-- compactness: double (nullable = true)\n",
      " |-- length_of_kernel: double (nullable = true)\n",
      " |-- width_of_kernel: double (nullable = true)\n",
      " |-- asymmetry_coefficient: double (nullable = true)\n",
      " |-- length_of_groove: double (nullable = true)\n",
      "\n"
     ]
    }
   ],
   "source": [
    "data.printSchema()"
   ]
  },
  {
   "cell_type": "code",
   "execution_count": 5,
   "id": "israeli-enterprise",
   "metadata": {},
   "outputs": [
    {
     "data": {
      "text/plain": [
       "[Row(area=15.26, perimeter=14.84, compactness=0.871, length_of_kernel=5.763, width_of_kernel=3.312, asymmetry_coefficient=2.221, length_of_groove=5.22)]"
      ]
     },
     "execution_count": 5,
     "metadata": {},
     "output_type": "execute_result"
    }
   ],
   "source": [
    "data.head(1)"
   ]
  },
  {
   "cell_type": "code",
   "execution_count": 6,
   "id": "hollywood-license",
   "metadata": {},
   "outputs": [],
   "source": [
    "# We want to group seeds, knowing there are 3 varieties of wheat.\n",
    "# No label. This is unsupervised learning!"
   ]
  },
  {
   "cell_type": "code",
   "execution_count": 7,
   "id": "prospective-tumor",
   "metadata": {},
   "outputs": [],
   "source": [
    "# Prepare data for ML\n",
    "from pyspark.ml.feature import VectorAssembler"
   ]
  },
  {
   "cell_type": "code",
   "execution_count": 8,
   "id": "acceptable-marijuana",
   "metadata": {},
   "outputs": [
    {
     "data": {
      "text/plain": [
       "['area',\n",
       " 'perimeter',\n",
       " 'compactness',\n",
       " 'length_of_kernel',\n",
       " 'width_of_kernel',\n",
       " 'asymmetry_coefficient',\n",
       " 'length_of_groove']"
      ]
     },
     "execution_count": 8,
     "metadata": {},
     "output_type": "execute_result"
    }
   ],
   "source": [
    "data.columns"
   ]
  },
  {
   "cell_type": "code",
   "execution_count": 9,
   "id": "exempt-nothing",
   "metadata": {},
   "outputs": [],
   "source": [
    "# We will pass all columns through the assembler!\n",
    "assembler = VectorAssembler(inputCols=data.columns,\n",
    "                            outputCol='features')"
   ]
  },
  {
   "cell_type": "code",
   "execution_count": 10,
   "id": "indirect-drink",
   "metadata": {},
   "outputs": [],
   "source": [
    "finalData = assembler.transform(data)"
   ]
  },
  {
   "cell_type": "code",
   "execution_count": 11,
   "id": "italian-mexico",
   "metadata": {},
   "outputs": [
    {
     "name": "stdout",
     "output_type": "stream",
     "text": [
      "root\n",
      " |-- area: double (nullable = true)\n",
      " |-- perimeter: double (nullable = true)\n",
      " |-- compactness: double (nullable = true)\n",
      " |-- length_of_kernel: double (nullable = true)\n",
      " |-- width_of_kernel: double (nullable = true)\n",
      " |-- asymmetry_coefficient: double (nullable = true)\n",
      " |-- length_of_groove: double (nullable = true)\n",
      " |-- features: vector (nullable = true)\n",
      "\n"
     ]
    }
   ],
   "source": [
    "finalData.printSchema()"
   ]
  },
  {
   "cell_type": "code",
   "execution_count": 12,
   "id": "novel-economics",
   "metadata": {},
   "outputs": [],
   "source": [
    "# Scale your Features! Make sure every single one\n",
    "# is on the same order of magnitude!\n",
    "from pyspark.ml.feature import StandardScaler"
   ]
  },
  {
   "cell_type": "code",
   "execution_count": 13,
   "id": "rational-booking",
   "metadata": {},
   "outputs": [],
   "source": [
    "scaler = StandardScaler(inputCol='features',\n",
    "                        outputCol='scaledFeatures')"
   ]
  },
  {
   "cell_type": "code",
   "execution_count": 15,
   "id": "improved-there",
   "metadata": {},
   "outputs": [],
   "source": [
    "# Fit (collect stddev info) and transform accordingly\n",
    "scalerModel = scaler.fit(finalData)\n",
    "finalData = scalerModel.transform(finalData)"
   ]
  },
  {
   "cell_type": "code",
   "execution_count": 16,
   "id": "speaking-debut",
   "metadata": {},
   "outputs": [
    {
     "data": {
      "text/plain": [
       "[Row(area=15.26, perimeter=14.84, compactness=0.871, length_of_kernel=5.763, width_of_kernel=3.312, asymmetry_coefficient=2.221, length_of_groove=5.22, features=DenseVector([15.26, 14.84, 0.871, 5.763, 3.312, 2.221, 5.22]), scaledFeatures=DenseVector([5.2445, 11.3633, 36.8608, 13.0072, 8.7685, 1.4772, 10.621]))]"
      ]
     },
     "execution_count": 16,
     "metadata": {},
     "output_type": "execute_result"
    }
   ],
   "source": [
    "finalData.head(1)"
   ]
  },
  {
   "cell_type": "code",
   "execution_count": 17,
   "id": "certified-freeware",
   "metadata": {},
   "outputs": [],
   "source": [
    "# Initiate the model with 3 clusters\n",
    "kmeans = KMeans(featuresCol='scaledFeatures',k=3)"
   ]
  },
  {
   "cell_type": "code",
   "execution_count": 18,
   "id": "competent-assets",
   "metadata": {},
   "outputs": [],
   "source": [
    "# Fit the model\n",
    "kModel = kmeans.fit(finalData)"
   ]
  },
  {
   "cell_type": "code",
   "execution_count": 19,
   "id": "under-rocket",
   "metadata": {},
   "outputs": [
    {
     "data": {
      "text/plain": [
       "429.1153810024243"
      ]
     },
     "execution_count": 19,
     "metadata": {},
     "output_type": "execute_result"
    }
   ],
   "source": [
    "# Evaluate your model -> \"Within Set Sum of Squared Errors\"\n",
    "wssse = kModel.summary.trainingCost\n",
    "wssse\n",
    "\n",
    "# Value is not helpful because the data got scaled!"
   ]
  },
  {
   "cell_type": "code",
   "execution_count": 20,
   "id": "ordinary-protection",
   "metadata": {},
   "outputs": [
    {
     "data": {
      "text/plain": [
       "[array([ 4.90993613, 10.92295738, 37.28032496, 12.38401355,  8.5873381 ,\n",
       "         1.7739463 , 10.35147469]),\n",
       " array([ 6.32636687, 12.38115343, 37.39222755, 13.9206997 ,  9.75485787,\n",
       "         2.41428142, 12.28078861]),\n",
       " array([ 4.06818854, 10.13938448, 35.87110297, 11.81191124,  7.52564313,\n",
       "         3.24585755, 10.40780927])]"
      ]
     },
     "execution_count": 20,
     "metadata": {},
     "output_type": "execute_result"
    }
   ],
   "source": [
    "# View centroid coordinates\n",
    "centers = kModel.clusterCenters()\n",
    "centers"
   ]
  },
  {
   "cell_type": "code",
   "execution_count": 22,
   "id": "fewer-registration",
   "metadata": {},
   "outputs": [
    {
     "name": "stdout",
     "output_type": "stream",
     "text": [
      "+----------+\n",
      "|prediction|\n",
      "+----------+\n",
      "|         0|\n",
      "|         0|\n",
      "|         0|\n",
      "|         0|\n",
      "|         0|\n",
      "|         0|\n",
      "|         0|\n",
      "|         0|\n",
      "|         1|\n",
      "|         0|\n",
      "|         0|\n",
      "|         0|\n",
      "|         0|\n",
      "|         0|\n",
      "|         0|\n",
      "|         0|\n",
      "|         0|\n",
      "|         0|\n",
      "|         0|\n",
      "|         2|\n",
      "+----------+\n",
      "only showing top 20 rows\n",
      "\n"
     ]
    }
   ],
   "source": [
    "results = kModel.transform(finalData)\n",
    "results.select('prediction').show()"
   ]
  },
  {
   "cell_type": "code",
   "execution_count": null,
   "id": "promotional-russia",
   "metadata": {},
   "outputs": [],
   "source": []
  }
 ],
 "metadata": {
  "kernelspec": {
   "display_name": "Python 3",
   "language": "python",
   "name": "python3"
  },
  "language_info": {
   "codemirror_mode": {
    "name": "ipython",
    "version": 3
   },
   "file_extension": ".py",
   "mimetype": "text/x-python",
   "name": "python",
   "nbconvert_exporter": "python",
   "pygments_lexer": "ipython3",
   "version": "3.8.5"
  }
 },
 "nbformat": 4,
 "nbformat_minor": 5
}
