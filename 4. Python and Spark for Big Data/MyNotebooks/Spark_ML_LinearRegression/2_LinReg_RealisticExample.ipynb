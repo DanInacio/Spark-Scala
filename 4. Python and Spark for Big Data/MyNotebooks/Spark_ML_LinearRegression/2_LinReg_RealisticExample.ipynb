{
 "cells": [
  {
   "cell_type": "code",
   "execution_count": 3,
   "id": "demonstrated-judges",
   "metadata": {},
   "outputs": [],
   "source": [
    "from pyspark.sql import SparkSession\n",
    "from pyspark.ml.regression import LinearRegression"
   ]
  },
  {
   "cell_type": "code",
   "execution_count": 4,
   "id": "unavailable-cruise",
   "metadata": {},
   "outputs": [],
   "source": [
    "spark = SparkSession.builder.appName('linreg').getOrCreate()"
   ]
  },
  {
   "cell_type": "code",
   "execution_count": 5,
   "id": "banner-administration",
   "metadata": {},
   "outputs": [],
   "source": [
    "# Get data\n",
    "data = spark.read.csv('Ecommerce_Customers.csv',\n",
    "                      header=True,inferSchema=True)"
   ]
  },
  {
   "cell_type": "code",
   "execution_count": 7,
   "id": "indian-abortion",
   "metadata": {},
   "outputs": [
    {
     "name": "stdout",
     "output_type": "stream",
     "text": [
      "root\n",
      " |-- Email: string (nullable = true)\n",
      " |-- Address: string (nullable = true)\n",
      " |-- Avatar: string (nullable = true)\n",
      " |-- Avg Session Length: double (nullable = true)\n",
      " |-- Time on App: double (nullable = true)\n",
      " |-- Time on Website: double (nullable = true)\n",
      " |-- Length of Membership: double (nullable = true)\n",
      " |-- Yearly Amount Spent: double (nullable = true)\n",
      "\n"
     ]
    }
   ],
   "source": [
    "data.printSchema()"
   ]
  },
  {
   "cell_type": "code",
   "execution_count": 14,
   "id": "marine-floor",
   "metadata": {},
   "outputs": [
    {
     "name": "stdout",
     "output_type": "stream",
     "text": [
      "mstephenson@fernandez.com\n",
      "835 Frank TunnelWrightmouth, MI 82180-9605\n",
      "Violet\n",
      "34.49726772511229\n",
      "12.65565114916675\n",
      "39.57766801952616\n",
      "4.0826206329529615\n",
      "587.9510539684005\n"
     ]
    }
   ],
   "source": [
    "for item in data.head(1)[0]:\n",
    "    print(item)"
   ]
  },
  {
   "cell_type": "code",
   "execution_count": 15,
   "id": "sunrise-information",
   "metadata": {},
   "outputs": [],
   "source": [
    "# Setup the dataframe for Machine Learning\n",
    "from pyspark.ml.linalg import Vectors\n",
    "from pyspark.ml.feature import VectorAssembler"
   ]
  },
  {
   "cell_type": "code",
   "execution_count": 16,
   "id": "acceptable-organization",
   "metadata": {},
   "outputs": [
    {
     "data": {
      "text/plain": [
       "['Email',\n",
       " 'Address',\n",
       " 'Avatar',\n",
       " 'Avg Session Length',\n",
       " 'Time on App',\n",
       " 'Time on Website',\n",
       " 'Length of Membership',\n",
       " 'Yearly Amount Spent']"
      ]
     },
     "execution_count": 16,
     "metadata": {},
     "output_type": "execute_result"
    }
   ],
   "source": [
    "# We only want numerical data\n",
    "# Predict yearly amount spent, based on all other features\n",
    "data.columns"
   ]
  },
  {
   "cell_type": "code",
   "execution_count": 17,
   "id": "public-snapshot",
   "metadata": {},
   "outputs": [],
   "source": [
    "# Create a vector assembler with the features you want\n",
    "assembler = VectorAssembler(inputCols=['Avg Session Length',\n",
    "                                       'Time on App',\n",
    "                                       'Time on Website',\n",
    "                                       'Length of Membership',],\n",
    "                            outputCol='features')"
   ]
  },
  {
   "cell_type": "code",
   "execution_count": 20,
   "id": "industrial-studio",
   "metadata": {},
   "outputs": [],
   "source": [
    "# Pass your data through the assembler to transform it\n",
    "output = assembler.transform(data)"
   ]
  },
  {
   "cell_type": "code",
   "execution_count": 22,
   "id": "following-password",
   "metadata": {},
   "outputs": [
    {
     "name": "stdout",
     "output_type": "stream",
     "text": [
      "root\n",
      " |-- Email: string (nullable = true)\n",
      " |-- Address: string (nullable = true)\n",
      " |-- Avatar: string (nullable = true)\n",
      " |-- Avg Session Length: double (nullable = true)\n",
      " |-- Time on App: double (nullable = true)\n",
      " |-- Time on Website: double (nullable = true)\n",
      " |-- Length of Membership: double (nullable = true)\n",
      " |-- Yearly Amount Spent: double (nullable = true)\n",
      " |-- features: vector (nullable = true)\n",
      "\n"
     ]
    }
   ],
   "source": [
    "output.printSchema() # new features column!"
   ]
  },
  {
   "cell_type": "code",
   "execution_count": 23,
   "id": "needed-tracker",
   "metadata": {},
   "outputs": [
    {
     "data": {
      "text/plain": [
       "[Row(Email='mstephenson@fernandez.com', Address='835 Frank TunnelWrightmouth, MI 82180-9605', Avatar='Violet', Avg Session Length=34.49726772511229, Time on App=12.65565114916675, Time on Website=39.57766801952616, Length of Membership=4.0826206329529615, Yearly Amount Spent=587.9510539684005, features=DenseVector([34.4973, 12.6557, 39.5777, 4.0826]))]"
      ]
     },
     "execution_count": 23,
     "metadata": {},
     "output_type": "execute_result"
    }
   ],
   "source": [
    "output.head(1)"
   ]
  },
  {
   "cell_type": "code",
   "execution_count": 24,
   "id": "closing-archives",
   "metadata": {},
   "outputs": [],
   "source": [
    "# Final dataframe for Machine Learning\n",
    "final_data = output.select('features','Yearly Amount Spent')"
   ]
  },
  {
   "cell_type": "code",
   "execution_count": 25,
   "id": "virgin-introduction",
   "metadata": {},
   "outputs": [
    {
     "name": "stdout",
     "output_type": "stream",
     "text": [
      "+--------------------+-------------------+\n",
      "|            features|Yearly Amount Spent|\n",
      "+--------------------+-------------------+\n",
      "|[34.4972677251122...|  587.9510539684005|\n",
      "|[31.9262720263601...|  392.2049334443264|\n",
      "|[33.0009147556426...| 487.54750486747207|\n",
      "|[34.3055566297555...|  581.8523440352177|\n",
      "|[33.3306725236463...|  599.4060920457634|\n",
      "|[33.8710378793419...|   637.102447915074|\n",
      "|[32.0215955013870...|  521.5721747578274|\n",
      "|[32.7391429383803...|  549.9041461052942|\n",
      "|[33.9877728956856...|  570.2004089636196|\n",
      "|[31.9365486184489...|  427.1993848953282|\n",
      "|[33.9925727749537...|  492.6060127179966|\n",
      "|[33.8793608248049...|  522.3374046069357|\n",
      "|[29.5324289670579...|  408.6403510726275|\n",
      "|[33.1903340437226...|  573.4158673313865|\n",
      "|[32.3879758531538...|  470.4527333009554|\n",
      "|[30.7377203726281...|  461.7807421962299|\n",
      "|[32.1253868972878...| 457.84769594494855|\n",
      "|[32.3388993230671...| 407.70454754954415|\n",
      "|[32.1878120459321...|  452.3156754800354|\n",
      "|[32.6178560628234...|   605.061038804892|\n",
      "+--------------------+-------------------+\n",
      "only showing top 20 rows\n",
      "\n"
     ]
    }
   ],
   "source": [
    "final_data.show()"
   ]
  },
  {
   "cell_type": "code",
   "execution_count": 26,
   "id": "pacific-replication",
   "metadata": {},
   "outputs": [],
   "source": [
    "# Now, split the data\n",
    "train_data,test_data = final_data.randomSplit([0.7,0.3])"
   ]
  },
  {
   "cell_type": "code",
   "execution_count": 27,
   "id": "cardiovascular-membrane",
   "metadata": {},
   "outputs": [
    {
     "name": "stdout",
     "output_type": "stream",
     "text": [
      "+-------+-------------------+\n",
      "|summary|Yearly Amount Spent|\n",
      "+-------+-------------------+\n",
      "|  count|                350|\n",
      "|   mean|   499.693822310208|\n",
      "| stddev|  79.12777788097375|\n",
      "|    min| 256.67058229005585|\n",
      "|    max|  765.5184619388373|\n",
      "+-------+-------------------+\n",
      "\n",
      "+-------+-------------------+\n",
      "|summary|Yearly Amount Spent|\n",
      "+-------+-------------------+\n",
      "|  count|                150|\n",
      "|   mean| 498.42787547148396|\n",
      "| stddev|  80.00828607335022|\n",
      "|    min| 298.76200786180766|\n",
      "|    max|  744.2218671047146|\n",
      "+-------+-------------------+\n",
      "\n"
     ]
    }
   ],
   "source": [
    "# Double-Check the split\n",
    "train_data.describe().show()\n",
    "test_data.describe().show()"
   ]
  },
  {
   "cell_type": "code",
   "execution_count": 29,
   "id": "rubber-letter",
   "metadata": {},
   "outputs": [],
   "source": [
    "# Create a LinReg model, fit to train_data and test on test_data\n",
    "lr = LinearRegression(featuresCol='features',\n",
    "                      labelCol='Yearly Amount Spent')"
   ]
  },
  {
   "cell_type": "code",
   "execution_count": 30,
   "id": "equal-movie",
   "metadata": {},
   "outputs": [],
   "source": [
    "lrModel = lr.fit(train_data)"
   ]
  },
  {
   "cell_type": "code",
   "execution_count": 31,
   "id": "present-donna",
   "metadata": {},
   "outputs": [],
   "source": [
    "test_results = lrModel.evaluate(test_data)"
   ]
  },
  {
   "cell_type": "code",
   "execution_count": 32,
   "id": "small-occupation",
   "metadata": {},
   "outputs": [
    {
     "name": "stdout",
     "output_type": "stream",
     "text": [
      "+-------------------+\n",
      "|          residuals|\n",
      "+-------------------+\n",
      "| -12.11640169183454|\n",
      "| -5.240509344014697|\n",
      "|  -4.60904175202694|\n",
      "|  4.825688205101528|\n",
      "|-1.4059948798309279|\n",
      "|-4.7029750299532225|\n",
      "| -7.399714290909628|\n",
      "| -8.904405016292174|\n",
      "| 3.5882205093180914|\n",
      "| 1.7893011177555422|\n",
      "| -2.813679750077597|\n",
      "|  7.509780164472147|\n",
      "| 0.9107984148354262|\n",
      "|  7.533224973853123|\n",
      "|-10.994219448615354|\n",
      "| -9.025152365002612|\n",
      "| -2.276156743950139|\n",
      "|-14.031856988132631|\n",
      "|  5.003853277066241|\n",
      "|  8.231003179699087|\n",
      "+-------------------+\n",
      "only showing top 20 rows\n",
      "\n"
     ]
    }
   ],
   "source": [
    "test_results.residuals.show()"
   ]
  },
  {
   "cell_type": "code",
   "execution_count": 33,
   "id": "dedicated-decimal",
   "metadata": {},
   "outputs": [
    {
     "data": {
      "text/plain": [
       "9.937266574363559"
      ]
     },
     "execution_count": 33,
     "metadata": {},
     "output_type": "execute_result"
    }
   ],
   "source": [
    "test_results.rootMeanSquaredError"
   ]
  },
  {
   "cell_type": "code",
   "execution_count": 36,
   "id": "raised-campbell",
   "metadata": {},
   "outputs": [
    {
     "data": {
      "text/plain": [
       "0.9844700900709007"
      ]
     },
     "execution_count": 36,
     "metadata": {},
     "output_type": "execute_result"
    }
   ],
   "source": [
    "test_results.r2 # 98.4% goodness-of-fit"
   ]
  },
  {
   "cell_type": "code",
   "execution_count": 37,
   "id": "nonprofit-nerve",
   "metadata": {},
   "outputs": [
    {
     "name": "stdout",
     "output_type": "stream",
     "text": [
      "+-------+-------------------+\n",
      "|summary|Yearly Amount Spent|\n",
      "+-------+-------------------+\n",
      "|  count|                500|\n",
      "|   mean|  499.3140382585909|\n",
      "| stddev|   79.3147815497068|\n",
      "|    min| 256.67058229005585|\n",
      "|    max|  765.5184619388373|\n",
      "+-------+-------------------+\n",
      "\n"
     ]
    }
   ],
   "source": [
    "final_data.describe().show()\n",
    "# We have a variation of roughly 10 dollars on the Yearly\n",
    "# Amount Spent. Avg is 500, so it is pretty good"
   ]
  },
  {
   "cell_type": "code",
   "execution_count": 38,
   "id": "unlike-military",
   "metadata": {},
   "outputs": [],
   "source": [
    "# Can we trust such a good model? Let's check!\n",
    "# Deploy the model on unlabeled data"
   ]
  },
  {
   "cell_type": "code",
   "execution_count": 39,
   "id": "dangerous-literature",
   "metadata": {},
   "outputs": [],
   "source": [
    "unlabeled_data = test_data.select('features')"
   ]
  },
  {
   "cell_type": "code",
   "execution_count": 40,
   "id": "operating-capitol",
   "metadata": {},
   "outputs": [
    {
     "name": "stdout",
     "output_type": "stream",
     "text": [
      "+--------------------+\n",
      "|            features|\n",
      "+--------------------+\n",
      "|[30.3931845423455...|\n",
      "|[30.8364326747734...|\n",
      "|[30.8794843441274...|\n",
      "|[31.0472221394875...|\n",
      "|[31.2606468698795...|\n",
      "|[31.4252268808548...|\n",
      "|[31.4474464941278...|\n",
      "|[31.5261978982398...|\n",
      "|[31.5316044825729...|\n",
      "|[31.7366356860502...|\n",
      "|[31.8186165667690...|\n",
      "|[31.8209982016720...|\n",
      "|[31.8293464559211...|\n",
      "|[31.8512531286083...|\n",
      "|[31.8648325480987...|\n",
      "|[31.8854062999117...|\n",
      "|[31.9120759292006...|\n",
      "|[31.9365486184489...|\n",
      "|[31.9480174211613...|\n",
      "|[31.9549038566348...|\n",
      "+--------------------+\n",
      "only showing top 20 rows\n",
      "\n"
     ]
    }
   ],
   "source": [
    "unlabeled_data.show()"
   ]
  },
  {
   "cell_type": "code",
   "execution_count": 41,
   "id": "musical-highway",
   "metadata": {},
   "outputs": [],
   "source": [
    "predictions = lrModel.transform(unlabeled_data)"
   ]
  },
  {
   "cell_type": "code",
   "execution_count": 43,
   "id": "pending-disclosure",
   "metadata": {},
   "outputs": [
    {
     "name": "stdout",
     "output_type": "stream",
     "text": [
      "+--------------------+------------------+\n",
      "|            features|        prediction|\n",
      "+--------------------+------------------+\n",
      "|[30.3931845423455...|332.04527149502815|\n",
      "|[30.8364326747734...| 472.7424097710043|\n",
      "|[30.8794843441274...| 494.8156417368816|\n",
      "|[31.0472221394875...|387.67171098391987|\n",
      "|[31.2606468698795...| 422.7326261367823|\n",
      "|[31.4252268808548...| 535.4696936847151|\n",
      "|[31.4474464941278...|426.00245638613364|\n",
      "|[31.5261978982398...|   417.99893120863|\n",
      "|[31.5316044825729...|432.92738522004447|\n",
      "|[31.7366356860502...| 495.1441451377764|\n",
      "|[31.8186165667690...|449.23235312021325|\n",
      "|[31.8209982016720...| 417.1655008487412|\n",
      "|[31.8293464559211...|384.24153957313956|\n",
      "|[31.8512531286083...|465.45902169294527|\n",
      "|[31.8648325480987...|450.88549992542903|\n",
      "|[31.8854062999117...| 399.1284253374781|\n",
      "|[31.9120759292006...|389.81087304965786|\n",
      "|[31.9365486184489...| 441.2312418834608|\n",
      "|[31.9480174211613...|456.91702361583157|\n",
      "|[31.9549038566348...| 431.7668767602279|\n",
      "+--------------------+------------------+\n",
      "only showing top 20 rows\n",
      "\n"
     ]
    }
   ],
   "source": [
    "predictions.show()"
   ]
  },
  {
   "cell_type": "code",
   "execution_count": null,
   "id": "intelligent-despite",
   "metadata": {},
   "outputs": [],
   "source": []
  }
 ],
 "metadata": {
  "kernelspec": {
   "display_name": "Python 3",
   "language": "python",
   "name": "python3"
  },
  "language_info": {
   "codemirror_mode": {
    "name": "ipython",
    "version": 3
   },
   "file_extension": ".py",
   "mimetype": "text/x-python",
   "name": "python",
   "nbconvert_exporter": "python",
   "pygments_lexer": "ipython3",
   "version": "3.8.5"
  }
 },
 "nbformat": 4,
 "nbformat_minor": 5
}
