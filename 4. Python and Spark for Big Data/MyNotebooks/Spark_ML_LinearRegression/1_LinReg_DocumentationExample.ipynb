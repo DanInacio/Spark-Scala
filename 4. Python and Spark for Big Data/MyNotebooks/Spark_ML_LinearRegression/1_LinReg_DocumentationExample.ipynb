{
 "cells": [
  {
   "cell_type": "code",
   "execution_count": 3,
   "id": "electronic-brazilian",
   "metadata": {},
   "outputs": [],
   "source": [
    "from pyspark.sql import SparkSession"
   ]
  },
  {
   "cell_type": "code",
   "execution_count": 4,
   "id": "median-criterion",
   "metadata": {},
   "outputs": [],
   "source": [
    "spark = SparkSession.builder.appName('linreg').getOrCreate()"
   ]
  },
  {
   "cell_type": "code",
   "execution_count": 6,
   "id": "aggregate-hacker",
   "metadata": {},
   "outputs": [],
   "source": [
    "# cmd: pip3 install numpy\n",
    "from pyspark.ml.regression import LinearRegression"
   ]
  },
  {
   "cell_type": "code",
   "execution_count": 7,
   "id": "swiss-sight",
   "metadata": {},
   "outputs": [],
   "source": [
    "# Data is already formatted for Machine Learning!\n",
    "training = spark.read.format('libsvm').load('sample_linear_regression_data.txt')"
   ]
  },
  {
   "cell_type": "code",
   "execution_count": 9,
   "id": "removed-kennedy",
   "metadata": {},
   "outputs": [
    {
     "name": "stdout",
     "output_type": "stream",
     "text": [
      "+-------------------+--------------------+\n",
      "|              label|            features|\n",
      "+-------------------+--------------------+\n",
      "| -9.490009878824548|(10,[0,1,2,3,4,5,...|\n",
      "| 0.2577820163584905|(10,[0,1,2,3,4,5,...|\n",
      "| -4.438869807456516|(10,[0,1,2,3,4,5,...|\n",
      "|-19.782762789614537|(10,[0,1,2,3,4,5,...|\n",
      "| -7.966593841555266|(10,[0,1,2,3,4,5,...|\n",
      "| -7.896274316726144|(10,[0,1,2,3,4,5,...|\n",
      "| -8.464803554195287|(10,[0,1,2,3,4,5,...|\n",
      "| 2.1214592666251364|(10,[0,1,2,3,4,5,...|\n",
      "| 1.0720117616524107|(10,[0,1,2,3,4,5,...|\n",
      "|-13.772441561702871|(10,[0,1,2,3,4,5,...|\n",
      "| -5.082010756207233|(10,[0,1,2,3,4,5,...|\n",
      "|  7.887786536531237|(10,[0,1,2,3,4,5,...|\n",
      "| 14.323146365332388|(10,[0,1,2,3,4,5,...|\n",
      "|-20.057482615789212|(10,[0,1,2,3,4,5,...|\n",
      "|-0.8995693247765151|(10,[0,1,2,3,4,5,...|\n",
      "| -19.16829262296376|(10,[0,1,2,3,4,5,...|\n",
      "|  5.601801561245534|(10,[0,1,2,3,4,5,...|\n",
      "|-3.2256352187273354|(10,[0,1,2,3,4,5,...|\n",
      "| 1.5299675726687754|(10,[0,1,2,3,4,5,...|\n",
      "| -0.250102447941961|(10,[0,1,2,3,4,5,...|\n",
      "+-------------------+--------------------+\n",
      "only showing top 20 rows\n",
      "\n"
     ]
    }
   ],
   "source": [
    "training.show()"
   ]
  },
  {
   "cell_type": "code",
   "execution_count": 10,
   "id": "alive-fellowship",
   "metadata": {},
   "outputs": [],
   "source": [
    "# Load training data\n",
    "lr = LinearRegression(featuresCol='features',\n",
    "                      labelCol='label',\n",
    "                      predictionCol='prediction')"
   ]
  },
  {
   "cell_type": "code",
   "execution_count": 11,
   "id": "every-supervisor",
   "metadata": {},
   "outputs": [],
   "source": [
    "# Fit the model\n",
    "lrModel = lr.fit(training)"
   ]
  },
  {
   "cell_type": "code",
   "execution_count": 12,
   "id": "vocal-blank",
   "metadata": {},
   "outputs": [
    {
     "data": {
      "text/plain": [
       "DenseVector([0.0073, 0.8314, -0.8095, 2.4412, 0.5192, 1.1535, -0.2989, -0.5129, -0.6197, 0.6956])"
      ]
     },
     "execution_count": 12,
     "metadata": {},
     "output_type": "execute_result"
    }
   ],
   "source": [
    "# Print the model's coefficients\n",
    "lrModel.coefficients"
   ]
  },
  {
   "cell_type": "code",
   "execution_count": 13,
   "id": "respected-pacific",
   "metadata": {},
   "outputs": [
    {
     "data": {
      "text/plain": [
       "0.14228558260358093"
      ]
     },
     "execution_count": 13,
     "metadata": {},
     "output_type": "execute_result"
    }
   ],
   "source": [
    "# Print the model's intercept\n",
    "lrModel.intercept"
   ]
  },
  {
   "cell_type": "code",
   "execution_count": 14,
   "id": "deadly-reducing",
   "metadata": {},
   "outputs": [],
   "source": [
    "# Training summary\n",
    "training_summary = lrModel.summary"
   ]
  },
  {
   "cell_type": "code",
   "execution_count": 15,
   "id": "above-turkish",
   "metadata": {},
   "outputs": [
    {
     "data": {
      "text/plain": [
       "0.027839179518600154"
      ]
     },
     "execution_count": 15,
     "metadata": {},
     "output_type": "execute_result"
    }
   ],
   "source": [
    "training_summary.r2 # R2"
   ]
  },
  {
   "cell_type": "code",
   "execution_count": 16,
   "id": "formal-canada",
   "metadata": {},
   "outputs": [
    {
     "data": {
      "text/plain": [
       "10.16309157133015"
      ]
     },
     "execution_count": 16,
     "metadata": {},
     "output_type": "execute_result"
    }
   ],
   "source": [
    "training_summary.rootMeanSquaredError # RMSE"
   ]
  },
  {
   "cell_type": "code",
   "execution_count": 18,
   "id": "supposed-insulin",
   "metadata": {},
   "outputs": [],
   "source": [
    "# TRAIN/TEST SPLIT\n",
    "all_data = spark.read.format('libsvm').load('sample_linear_regression_data.txt')"
   ]
  },
  {
   "cell_type": "code",
   "execution_count": 19,
   "id": "pointed-motion",
   "metadata": {},
   "outputs": [],
   "source": [
    "split_object = all_data.randomSplit([0.7,0.3])"
   ]
  },
  {
   "cell_type": "code",
   "execution_count": 20,
   "id": "verified-disclaimer",
   "metadata": {},
   "outputs": [
    {
     "data": {
      "text/plain": [
       "[DataFrame[label: double, features: vector],\n",
       " DataFrame[label: double, features: vector]]"
      ]
     },
     "execution_count": 20,
     "metadata": {},
     "output_type": "execute_result"
    }
   ],
   "source": [
    "split_object # 2 dataframes, training and test data!"
   ]
  },
  {
   "cell_type": "code",
   "execution_count": 21,
   "id": "responsible-background",
   "metadata": {},
   "outputs": [],
   "source": [
    "# Realistic Method!\n",
    "train_data,test_data = all_data.randomSplit([0.7,0.3])"
   ]
  },
  {
   "cell_type": "code",
   "execution_count": 24,
   "id": "satellite-olive",
   "metadata": {},
   "outputs": [
    {
     "name": "stdout",
     "output_type": "stream",
     "text": [
      "+-------+--------------------+\n",
      "|summary|               label|\n",
      "+-------+--------------------+\n",
      "|  count|                 352|\n",
      "|   mean|-0.07990466805170236|\n",
      "| stddev|   10.05993802953512|\n",
      "|    min| -28.571478869743427|\n",
      "|    max|   27.78383192005107|\n",
      "+-------+--------------------+\n",
      "\n",
      "+-------+-------------------+\n",
      "|summary|              label|\n",
      "+-------+-------------------+\n",
      "|  count|                149|\n",
      "|   mean| 1.0525351884153582|\n",
      "| stddev|  10.89665434909406|\n",
      "|    min|-26.736207182601724|\n",
      "|    max| 27.111027963108548|\n",
      "+-------+-------------------+\n",
      "\n"
     ]
    }
   ],
   "source": [
    "# Double-Check the split\n",
    "train_data.describe().show()\n",
    "test_data.describe().show()"
   ]
  },
  {
   "cell_type": "code",
   "execution_count": 25,
   "id": "scientific-execution",
   "metadata": {},
   "outputs": [],
   "source": [
    "# Fit the model to the training data only!\n",
    "correct_model = lr.fit(train_data)"
   ]
  },
  {
   "cell_type": "code",
   "execution_count": 26,
   "id": "coral-biology",
   "metadata": {},
   "outputs": [],
   "source": [
    "# Test the model on new data\n",
    "test_results = correct_model.evaluate(test_data)"
   ]
  },
  {
   "cell_type": "code",
   "execution_count": 28,
   "id": "accessory-ethics",
   "metadata": {},
   "outputs": [
    {
     "name": "stdout",
     "output_type": "stream",
     "text": [
      "+-------------------+\n",
      "|          residuals|\n",
      "+-------------------+\n",
      "|-23.898786146424097|\n",
      "| -21.82461723712168|\n",
      "|-19.484074947719748|\n",
      "|-18.327740730552563|\n",
      "|-20.170483878116244|\n",
      "| -19.03477898210663|\n",
      "| -14.12699935939318|\n",
      "| -16.37756730576434|\n",
      "|-17.765953968025258|\n",
      "| -16.20472972697216|\n",
      "| -18.84945023767399|\n",
      "|-15.013075078851973|\n",
      "| -17.06160510369329|\n",
      "|-16.479295353337243|\n",
      "|-12.999775349739828|\n",
      "|-13.748070066797121|\n",
      "|-13.306473368159393|\n",
      "| -7.867624441335933|\n",
      "|-13.200292285853497|\n",
      "| -8.796853006076946|\n",
      "+-------------------+\n",
      "only showing top 20 rows\n",
      "\n"
     ]
    },
    {
     "data": {
      "text/plain": [
       "10.881231286688301"
      ]
     },
     "execution_count": 28,
     "metadata": {},
     "output_type": "execute_result"
    }
   ],
   "source": [
    "test_results.residuals.show()"
   ]
  },
  {
   "cell_type": "code",
   "execution_count": 29,
   "id": "dynamic-lying",
   "metadata": {},
   "outputs": [
    {
     "data": {
      "text/plain": [
       "10.881231286688301"
      ]
     },
     "execution_count": 29,
     "metadata": {},
     "output_type": "execute_result"
    }
   ],
   "source": [
    "test_results.rootMeanSquaredError # The lower, the better!"
   ]
  },
  {
   "cell_type": "code",
   "execution_count": 30,
   "id": "sound-alfred",
   "metadata": {},
   "outputs": [],
   "source": [
    "# Let's test the model on unlabeled data\n",
    "unlabeled_data = test_data.select('features')"
   ]
  },
  {
   "cell_type": "code",
   "execution_count": 31,
   "id": "blessed-bonus",
   "metadata": {},
   "outputs": [
    {
     "name": "stdout",
     "output_type": "stream",
     "text": [
      "+--------------------+\n",
      "|            features|\n",
      "+--------------------+\n",
      "|(10,[0,1,2,3,4,5,...|\n",
      "|(10,[0,1,2,3,4,5,...|\n",
      "|(10,[0,1,2,3,4,5,...|\n",
      "|(10,[0,1,2,3,4,5,...|\n",
      "|(10,[0,1,2,3,4,5,...|\n",
      "|(10,[0,1,2,3,4,5,...|\n",
      "|(10,[0,1,2,3,4,5,...|\n",
      "|(10,[0,1,2,3,4,5,...|\n",
      "|(10,[0,1,2,3,4,5,...|\n",
      "|(10,[0,1,2,3,4,5,...|\n",
      "|(10,[0,1,2,3,4,5,...|\n",
      "|(10,[0,1,2,3,4,5,...|\n",
      "|(10,[0,1,2,3,4,5,...|\n",
      "|(10,[0,1,2,3,4,5,...|\n",
      "|(10,[0,1,2,3,4,5,...|\n",
      "|(10,[0,1,2,3,4,5,...|\n",
      "|(10,[0,1,2,3,4,5,...|\n",
      "|(10,[0,1,2,3,4,5,...|\n",
      "|(10,[0,1,2,3,4,5,...|\n",
      "|(10,[0,1,2,3,4,5,...|\n",
      "+--------------------+\n",
      "only showing top 20 rows\n",
      "\n"
     ]
    }
   ],
   "source": [
    "unlabeled_data.show()"
   ]
  },
  {
   "cell_type": "code",
   "execution_count": 32,
   "id": "complex-sphere",
   "metadata": {},
   "outputs": [],
   "source": [
    "predictions = correct_model.transform(unlabeled_data)"
   ]
  },
  {
   "cell_type": "code",
   "execution_count": 33,
   "id": "compressed-confirmation",
   "metadata": {},
   "outputs": [
    {
     "name": "stdout",
     "output_type": "stream",
     "text": [
      "+--------------------+--------------------+\n",
      "|            features|          prediction|\n",
      "+--------------------+--------------------+\n",
      "|(10,[0,1,2,3,4,5,...| -2.8374210361776258|\n",
      "|(10,[0,1,2,3,4,5,...| -1.6628228838148338|\n",
      "|(10,[0,1,2,3,4,5,...| -0.5734076680694631|\n",
      "|(10,[0,1,2,3,4,5,...| -1.0745952996619914|\n",
      "|(10,[0,1,2,3,4,5,...|  1.3245614052176624|\n",
      "|(10,[0,1,2,3,4,5,...|  0.7595654161019998|\n",
      "|(10,[0,1,2,3,4,5,...| -2.8994929048163676|\n",
      "|(10,[0,1,2,3,4,5,...| -0.3415295278407495|\n",
      "|(10,[0,1,2,3,4,5,...|  1.5045236925725265|\n",
      "|(10,[0,1,2,3,4,5,...| 0.11907068595067224|\n",
      "|(10,[0,1,2,3,4,5,...|  3.0687652050506893|\n",
      "|(10,[0,1,2,3,4,5,...| -0.4243097145792441|\n",
      "|(10,[0,1,2,3,4,5,...|  1.7020602238606115|\n",
      "|(10,[0,1,2,3,4,5,...|  1.1445278734148998|\n",
      "|(10,[0,1,2,3,4,5,...| -2.3112052396764615|\n",
      "|(10,[0,1,2,3,4,5,...|-0.22806086435558107|\n",
      "|(10,[0,1,2,3,4,5,...| -0.5606145269993758|\n",
      "|(10,[0,1,2,3,4,5,...|  -4.905602557915263|\n",
      "|(10,[0,1,2,3,4,5,...|  0.6995185004984412|\n",
      "|(10,[0,1,2,3,4,5,...| -3.6140933967632143|\n",
      "+--------------------+--------------------+\n",
      "only showing top 20 rows\n",
      "\n"
     ]
    }
   ],
   "source": [
    "predictions.show()\n",
    "# Since it is unlabeled, you cannot evaluate on RMSE or r2!"
   ]
  },
  {
   "cell_type": "code",
   "execution_count": null,
   "id": "prompt-chassis",
   "metadata": {},
   "outputs": [],
   "source": []
  }
 ],
 "metadata": {
  "kernelspec": {
   "display_name": "Python 3",
   "language": "python",
   "name": "python3"
  },
  "language_info": {
   "codemirror_mode": {
    "name": "ipython",
    "version": 3
   },
   "file_extension": ".py",
   "mimetype": "text/x-python",
   "name": "python",
   "nbconvert_exporter": "python",
   "pygments_lexer": "ipython3",
   "version": "3.8.5"
  }
 },
 "nbformat": 4,
 "nbformat_minor": 5
}
